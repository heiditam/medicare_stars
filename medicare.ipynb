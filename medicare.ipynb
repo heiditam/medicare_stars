{
 "cells": [
  {
   "cell_type": "markdown",
   "metadata": {},
   "source": [
    "# Medicare Stars Project"
   ]
  },
  {
   "cell_type": "code",
   "execution_count": 1,
   "metadata": {},
   "outputs": [],
   "source": [
    "# I imported the data from Data.CMS.gov -- the Provider Information dataset. \n",
    "# Objective: to discover any existing trends in star ratings (overall quality) over time and investigate factors that affect the ratings-- in particular,\n",
    "# health inspections, quality measures, and staffing."
   ]
  },
  {
   "cell_type": "markdown",
   "metadata": {},
   "source": [
    "### Data Analysis"
   ]
  },
  {
   "cell_type": "markdown",
   "metadata": {},
   "source": [
    "#### Data Cleaning"
   ]
  },
  {
   "cell_type": "code",
   "execution_count": 2,
   "metadata": {},
   "outputs": [
    {
     "data": {
      "text/html": [
       "<div>\n",
       "<style scoped>\n",
       "    .dataframe tbody tr th:only-of-type {\n",
       "        vertical-align: middle;\n",
       "    }\n",
       "\n",
       "    .dataframe tbody tr th {\n",
       "        vertical-align: top;\n",
       "    }\n",
       "\n",
       "    .dataframe thead th {\n",
       "        text-align: right;\n",
       "    }\n",
       "</style>\n",
       "<table border=\"1\" class=\"dataframe\">\n",
       "  <thead>\n",
       "    <tr style=\"text-align: right;\">\n",
       "      <th></th>\n",
       "      <th>CMS Certification Number (CCN)</th>\n",
       "      <th>Provider Name</th>\n",
       "      <th>Provider Address</th>\n",
       "      <th>City/Town</th>\n",
       "      <th>State</th>\n",
       "      <th>ZIP Code</th>\n",
       "      <th>Telephone Number</th>\n",
       "      <th>Provider SSA County Code</th>\n",
       "      <th>County/Parish</th>\n",
       "      <th>Ownership Type</th>\n",
       "      <th>...</th>\n",
       "      <th>Number of Citations from Infection Control Inspections</th>\n",
       "      <th>Number of Fines</th>\n",
       "      <th>Total Amount of Fines in Dollars</th>\n",
       "      <th>Number of Payment Denials</th>\n",
       "      <th>Total Number of Penalties</th>\n",
       "      <th>Location</th>\n",
       "      <th>Latitude</th>\n",
       "      <th>Longitude</th>\n",
       "      <th>Geocoding Footnote</th>\n",
       "      <th>Processing Date</th>\n",
       "    </tr>\n",
       "  </thead>\n",
       "  <tbody>\n",
       "    <tr>\n",
       "      <th>0</th>\n",
       "      <td>015009</td>\n",
       "      <td>BURNS NURSING HOME, INC.</td>\n",
       "      <td>701 MONROE STREET NW</td>\n",
       "      <td>RUSSELLVILLE</td>\n",
       "      <td>AL</td>\n",
       "      <td>35653</td>\n",
       "      <td>2563324110</td>\n",
       "      <td>290</td>\n",
       "      <td>Franklin</td>\n",
       "      <td>For profit - Corporation</td>\n",
       "      <td>...</td>\n",
       "      <td>NaN</td>\n",
       "      <td>2</td>\n",
       "      <td>24644.14</td>\n",
       "      <td>0</td>\n",
       "      <td>2</td>\n",
       "      <td>701 MONROE STREET NW,RUSSELLVILLE,AL,35653</td>\n",
       "      <td>34.5149</td>\n",
       "      <td>-87.736</td>\n",
       "      <td>NaN</td>\n",
       "      <td>2024-07-01</td>\n",
       "    </tr>\n",
       "    <tr>\n",
       "      <th>1</th>\n",
       "      <td>015010</td>\n",
       "      <td>COOSA VALLEY HEALTHCARE CENTER</td>\n",
       "      <td>260 WEST WALNUT STREET</td>\n",
       "      <td>SYLACAUGA</td>\n",
       "      <td>AL</td>\n",
       "      <td>35150</td>\n",
       "      <td>2562495604</td>\n",
       "      <td>600</td>\n",
       "      <td>Talladega</td>\n",
       "      <td>For profit - Corporation</td>\n",
       "      <td>...</td>\n",
       "      <td>0.0</td>\n",
       "      <td>0</td>\n",
       "      <td>0.00</td>\n",
       "      <td>0</td>\n",
       "      <td>0</td>\n",
       "      <td>260 WEST WALNUT STREET,SYLACAUGA,AL,35150</td>\n",
       "      <td>33.1637</td>\n",
       "      <td>-86.254</td>\n",
       "      <td>NaN</td>\n",
       "      <td>2024-07-01</td>\n",
       "    </tr>\n",
       "    <tr>\n",
       "      <th>2</th>\n",
       "      <td>015012</td>\n",
       "      <td>HIGHLANDS HEALTH AND REHAB</td>\n",
       "      <td>380 WOODS COVE ROAD</td>\n",
       "      <td>SCOTTSBORO</td>\n",
       "      <td>AL</td>\n",
       "      <td>35768</td>\n",
       "      <td>2562183708</td>\n",
       "      <td>350</td>\n",
       "      <td>Jackson</td>\n",
       "      <td>Government - County</td>\n",
       "      <td>...</td>\n",
       "      <td>NaN</td>\n",
       "      <td>0</td>\n",
       "      <td>0.00</td>\n",
       "      <td>0</td>\n",
       "      <td>0</td>\n",
       "      <td>380 WOODS COVE ROAD,SCOTTSBORO,AL,35768</td>\n",
       "      <td>34.6611</td>\n",
       "      <td>-86.047</td>\n",
       "      <td>NaN</td>\n",
       "      <td>2024-07-01</td>\n",
       "    </tr>\n",
       "    <tr>\n",
       "      <th>3</th>\n",
       "      <td>015014</td>\n",
       "      <td>EASTVIEW REHABILITATION &amp; HEALTHCARE CENTER</td>\n",
       "      <td>7755 FOURTH AVENUE SOUTH</td>\n",
       "      <td>BIRMINGHAM</td>\n",
       "      <td>AL</td>\n",
       "      <td>35206</td>\n",
       "      <td>2058330146</td>\n",
       "      <td>360</td>\n",
       "      <td>Jefferson</td>\n",
       "      <td>For profit - Individual</td>\n",
       "      <td>...</td>\n",
       "      <td>0.0</td>\n",
       "      <td>0</td>\n",
       "      <td>0.00</td>\n",
       "      <td>0</td>\n",
       "      <td>0</td>\n",
       "      <td>7755 FOURTH AVENUE SOUTH,BIRMINGHAM,AL,35206</td>\n",
       "      <td>33.5595</td>\n",
       "      <td>-86.722</td>\n",
       "      <td>NaN</td>\n",
       "      <td>2024-07-01</td>\n",
       "    </tr>\n",
       "    <tr>\n",
       "      <th>4</th>\n",
       "      <td>015015</td>\n",
       "      <td>PLANTATION MANOR NURSING HOME</td>\n",
       "      <td>6450 OLD TUSCALOOSA HIGHWAY</td>\n",
       "      <td>MC CALLA</td>\n",
       "      <td>AL</td>\n",
       "      <td>35111</td>\n",
       "      <td>2054776161</td>\n",
       "      <td>360</td>\n",
       "      <td>Jefferson</td>\n",
       "      <td>For profit - Individual</td>\n",
       "      <td>...</td>\n",
       "      <td>NaN</td>\n",
       "      <td>0</td>\n",
       "      <td>0.00</td>\n",
       "      <td>0</td>\n",
       "      <td>0</td>\n",
       "      <td>6450 OLD TUSCALOOSA HIGHWAY,MC CALLA,AL,35111</td>\n",
       "      <td>33.3221</td>\n",
       "      <td>-87.034</td>\n",
       "      <td>NaN</td>\n",
       "      <td>2024-07-01</td>\n",
       "    </tr>\n",
       "  </tbody>\n",
       "</table>\n",
       "<p>5 rows × 103 columns</p>\n",
       "</div>"
      ],
      "text/plain": [
       "  CMS Certification Number (CCN)                                Provider Name  \\\n",
       "0                         015009                     BURNS NURSING HOME, INC.   \n",
       "1                         015010               COOSA VALLEY HEALTHCARE CENTER   \n",
       "2                         015012                   HIGHLANDS HEALTH AND REHAB   \n",
       "3                         015014  EASTVIEW REHABILITATION & HEALTHCARE CENTER   \n",
       "4                         015015                PLANTATION MANOR NURSING HOME   \n",
       "\n",
       "              Provider Address     City/Town State  ZIP Code  \\\n",
       "0         701 MONROE STREET NW  RUSSELLVILLE    AL     35653   \n",
       "1       260 WEST WALNUT STREET     SYLACAUGA    AL     35150   \n",
       "2          380 WOODS COVE ROAD    SCOTTSBORO    AL     35768   \n",
       "3     7755 FOURTH AVENUE SOUTH    BIRMINGHAM    AL     35206   \n",
       "4  6450 OLD TUSCALOOSA HIGHWAY      MC CALLA    AL     35111   \n",
       "\n",
       "   Telephone Number  Provider SSA County Code County/Parish  \\\n",
       "0        2563324110                       290      Franklin   \n",
       "1        2562495604                       600     Talladega   \n",
       "2        2562183708                       350       Jackson   \n",
       "3        2058330146                       360     Jefferson   \n",
       "4        2054776161                       360     Jefferson   \n",
       "\n",
       "             Ownership Type  ...  \\\n",
       "0  For profit - Corporation  ...   \n",
       "1  For profit - Corporation  ...   \n",
       "2       Government - County  ...   \n",
       "3   For profit - Individual  ...   \n",
       "4   For profit - Individual  ...   \n",
       "\n",
       "   Number of Citations from Infection Control Inspections  Number of Fines  \\\n",
       "0                                                NaN                     2   \n",
       "1                                                0.0                     0   \n",
       "2                                                NaN                     0   \n",
       "3                                                0.0                     0   \n",
       "4                                                NaN                     0   \n",
       "\n",
       "   Total Amount of Fines in Dollars Number of Payment Denials  \\\n",
       "0                          24644.14                         0   \n",
       "1                              0.00                         0   \n",
       "2                              0.00                         0   \n",
       "3                              0.00                         0   \n",
       "4                              0.00                         0   \n",
       "\n",
       "  Total Number of Penalties                                       Location  \\\n",
       "0                         2     701 MONROE STREET NW,RUSSELLVILLE,AL,35653   \n",
       "1                         0      260 WEST WALNUT STREET,SYLACAUGA,AL,35150   \n",
       "2                         0        380 WOODS COVE ROAD,SCOTTSBORO,AL,35768   \n",
       "3                         0   7755 FOURTH AVENUE SOUTH,BIRMINGHAM,AL,35206   \n",
       "4                         0  6450 OLD TUSCALOOSA HIGHWAY,MC CALLA,AL,35111   \n",
       "\n",
       "  Latitude Longitude  Geocoding Footnote Processing Date  \n",
       "0  34.5149   -87.736                 NaN      2024-07-01  \n",
       "1  33.1637   -86.254                 NaN      2024-07-01  \n",
       "2  34.6611   -86.047                 NaN      2024-07-01  \n",
       "3  33.5595   -86.722                 NaN      2024-07-01  \n",
       "4  33.3221   -87.034                 NaN      2024-07-01  \n",
       "\n",
       "[5 rows x 103 columns]"
      ]
     },
     "execution_count": 2,
     "metadata": {},
     "output_type": "execute_result"
    }
   ],
   "source": [
    "import pandas as pd\n",
    "import numpy as np\n",
    "import plotly.express as px\n",
    "provider_info = pd.read_csv('provider_info.csv')\n",
    "provider_info.head()"
   ]
  },
  {
   "cell_type": "code",
   "execution_count": 3,
   "metadata": {},
   "outputs": [
    {
     "data": {
      "text/html": [
       "<div>\n",
       "<style scoped>\n",
       "    .dataframe tbody tr th:only-of-type {\n",
       "        vertical-align: middle;\n",
       "    }\n",
       "\n",
       "    .dataframe tbody tr th {\n",
       "        vertical-align: top;\n",
       "    }\n",
       "\n",
       "    .dataframe thead th {\n",
       "        text-align: right;\n",
       "    }\n",
       "</style>\n",
       "<table border=\"1\" class=\"dataframe\">\n",
       "  <thead>\n",
       "    <tr style=\"text-align: right;\">\n",
       "      <th></th>\n",
       "      <th>CMS Certification Number (CCN)</th>\n",
       "      <th>Provider Name</th>\n",
       "      <th>Provider Address</th>\n",
       "      <th>City/Town</th>\n",
       "      <th>State</th>\n",
       "      <th>ZIP Code</th>\n",
       "      <th>Telephone Number</th>\n",
       "      <th>Provider SSA County Code</th>\n",
       "      <th>County/Parish</th>\n",
       "      <th>Ownership Type</th>\n",
       "      <th>...</th>\n",
       "      <th>Number of Citations from Infection Control Inspections</th>\n",
       "      <th>Number of Fines</th>\n",
       "      <th>Total Amount of Fines in Dollars</th>\n",
       "      <th>Number of Payment Denials</th>\n",
       "      <th>Total Number of Penalties</th>\n",
       "      <th>Location</th>\n",
       "      <th>Latitude</th>\n",
       "      <th>Longitude</th>\n",
       "      <th>Geocoding Footnote</th>\n",
       "      <th>Processing Date</th>\n",
       "    </tr>\n",
       "  </thead>\n",
       "  <tbody>\n",
       "    <tr>\n",
       "      <th>133</th>\n",
       "      <td>015217</td>\n",
       "      <td>BIRMINGHAM NURSING AND REHABILITATION CTR LLC</td>\n",
       "      <td>1000 DUGAN AVENUE</td>\n",
       "      <td>BIRMINGHAM</td>\n",
       "      <td>AL</td>\n",
       "      <td>35214</td>\n",
       "      <td>2057988780</td>\n",
       "      <td>360</td>\n",
       "      <td>Jefferson</td>\n",
       "      <td>For profit - Limited Liability company</td>\n",
       "      <td>...</td>\n",
       "      <td>0.0</td>\n",
       "      <td>2</td>\n",
       "      <td>323706.50</td>\n",
       "      <td>0</td>\n",
       "      <td>2</td>\n",
       "      <td>1000 DUGAN AVENUE,BIRMINGHAM,AL,35214</td>\n",
       "      <td>33.5460</td>\n",
       "      <td>-86.881</td>\n",
       "      <td>NaN</td>\n",
       "      <td>2024-07-01</td>\n",
       "    </tr>\n",
       "    <tr>\n",
       "      <th>227</th>\n",
       "      <td>025019</td>\n",
       "      <td>PETERSBURG MEDICAL CENTER LTC</td>\n",
       "      <td>103 FRAM STREET</td>\n",
       "      <td>PETERSBURG</td>\n",
       "      <td>AK</td>\n",
       "      <td>99833</td>\n",
       "      <td>9077724291</td>\n",
       "      <td>195</td>\n",
       "      <td>Petersburg Borough</td>\n",
       "      <td>Government - City/county</td>\n",
       "      <td>...</td>\n",
       "      <td>NaN</td>\n",
       "      <td>0</td>\n",
       "      <td>0.00</td>\n",
       "      <td>0</td>\n",
       "      <td>0</td>\n",
       "      <td>103 FRAM STREET,PETERSBURG,AK,99833</td>\n",
       "      <td>56.8125</td>\n",
       "      <td>-132.956</td>\n",
       "      <td>NaN</td>\n",
       "      <td>2024-07-01</td>\n",
       "    </tr>\n",
       "    <tr>\n",
       "      <th>232</th>\n",
       "      <td>025026</td>\n",
       "      <td>QUYANNA CARE CENTER</td>\n",
       "      <td>1100 GREG KRUSCHEK AVENUE</td>\n",
       "      <td>NOME</td>\n",
       "      <td>AK</td>\n",
       "      <td>99762</td>\n",
       "      <td>9074433311</td>\n",
       "      <td>180</td>\n",
       "      <td>Nome</td>\n",
       "      <td>Non profit - Corporation</td>\n",
       "      <td>...</td>\n",
       "      <td>NaN</td>\n",
       "      <td>1</td>\n",
       "      <td>975.00</td>\n",
       "      <td>0</td>\n",
       "      <td>1</td>\n",
       "      <td>1100 GREG KRUSCHEK AVENUE,NOME,AK,99762</td>\n",
       "      <td>64.7874</td>\n",
       "      <td>-165.197</td>\n",
       "      <td>22.0</td>\n",
       "      <td>2024-07-01</td>\n",
       "    </tr>\n",
       "    <tr>\n",
       "      <th>235</th>\n",
       "      <td>025030</td>\n",
       "      <td>PROVIDENCE KODIAK ISLAND MED LTC</td>\n",
       "      <td>1915 E REZANOF DRIVE</td>\n",
       "      <td>KODIAK</td>\n",
       "      <td>AK</td>\n",
       "      <td>99615</td>\n",
       "      <td>9074867800</td>\n",
       "      <td>150</td>\n",
       "      <td>Kodiak Island Borough</td>\n",
       "      <td>Non profit - Corporation</td>\n",
       "      <td>...</td>\n",
       "      <td>NaN</td>\n",
       "      <td>1</td>\n",
       "      <td>15000.00</td>\n",
       "      <td>0</td>\n",
       "      <td>1</td>\n",
       "      <td>1915 E REZANOF DRIVE,KODIAK,AK,99615</td>\n",
       "      <td>57.8010</td>\n",
       "      <td>-152.374</td>\n",
       "      <td>NaN</td>\n",
       "      <td>2024-07-01</td>\n",
       "    </tr>\n",
       "    <tr>\n",
       "      <th>303</th>\n",
       "      <td>035146</td>\n",
       "      <td>LIFE CARE CENTER OF PARADISE VALLEY</td>\n",
       "      <td>4065 EAST BELL ROAD</td>\n",
       "      <td>PHOENIX</td>\n",
       "      <td>AZ</td>\n",
       "      <td>85032</td>\n",
       "      <td>6028670212</td>\n",
       "      <td>60</td>\n",
       "      <td>Maricopa</td>\n",
       "      <td>For profit - Corporation</td>\n",
       "      <td>...</td>\n",
       "      <td>0.0</td>\n",
       "      <td>1</td>\n",
       "      <td>72146.75</td>\n",
       "      <td>0</td>\n",
       "      <td>1</td>\n",
       "      <td>4065 EAST BELL ROAD,PHOENIX,AZ,85032</td>\n",
       "      <td>33.6407</td>\n",
       "      <td>-111.994</td>\n",
       "      <td>NaN</td>\n",
       "      <td>2024-07-01</td>\n",
       "    </tr>\n",
       "    <tr>\n",
       "      <th>...</th>\n",
       "      <td>...</td>\n",
       "      <td>...</td>\n",
       "      <td>...</td>\n",
       "      <td>...</td>\n",
       "      <td>...</td>\n",
       "      <td>...</td>\n",
       "      <td>...</td>\n",
       "      <td>...</td>\n",
       "      <td>...</td>\n",
       "      <td>...</td>\n",
       "      <td>...</td>\n",
       "      <td>...</td>\n",
       "      <td>...</td>\n",
       "      <td>...</td>\n",
       "      <td>...</td>\n",
       "      <td>...</td>\n",
       "      <td>...</td>\n",
       "      <td>...</td>\n",
       "      <td>...</td>\n",
       "      <td>...</td>\n",
       "      <td>...</td>\n",
       "    </tr>\n",
       "    <tr>\n",
       "      <th>14491</th>\n",
       "      <td>676132</td>\n",
       "      <td>TRAIL LAKE NURSING &amp; REHABILITATION</td>\n",
       "      <td>7100 TRAIL LAKE DR</td>\n",
       "      <td>FORT WORTH</td>\n",
       "      <td>TX</td>\n",
       "      <td>76133</td>\n",
       "      <td>8172632224</td>\n",
       "      <td>910</td>\n",
       "      <td>Tarrant</td>\n",
       "      <td>For profit - Limited Liability company</td>\n",
       "      <td>...</td>\n",
       "      <td>9.0</td>\n",
       "      <td>9</td>\n",
       "      <td>178390.46</td>\n",
       "      <td>0</td>\n",
       "      <td>9</td>\n",
       "      <td>7100 TRAIL LAKE DR,FORT WORTH,TX,76133</td>\n",
       "      <td>32.6418</td>\n",
       "      <td>-97.401</td>\n",
       "      <td>NaN</td>\n",
       "      <td>2024-07-01</td>\n",
       "    </tr>\n",
       "    <tr>\n",
       "      <th>14791</th>\n",
       "      <td>676476</td>\n",
       "      <td>THE HEIGHTS ON VALLEY RANCH</td>\n",
       "      <td>23200 VALLEY RANCH PARKWAY</td>\n",
       "      <td>PORTER</td>\n",
       "      <td>TX</td>\n",
       "      <td>77365</td>\n",
       "      <td>3463265085</td>\n",
       "      <td>801</td>\n",
       "      <td>Montgomery</td>\n",
       "      <td>For profit - Limited Liability company</td>\n",
       "      <td>...</td>\n",
       "      <td>0.0</td>\n",
       "      <td>0</td>\n",
       "      <td>0.00</td>\n",
       "      <td>0</td>\n",
       "      <td>0</td>\n",
       "      <td>23200 VALLEY RANCH PARKWAY,PORTER,TX,77365</td>\n",
       "      <td>30.1157</td>\n",
       "      <td>-95.251</td>\n",
       "      <td>NaN</td>\n",
       "      <td>2024-07-01</td>\n",
       "    </tr>\n",
       "    <tr>\n",
       "      <th>14818</th>\n",
       "      <td>686127</td>\n",
       "      <td>ADVENTHEALTH DELAND</td>\n",
       "      <td>701 W PLYMOUTH AVE</td>\n",
       "      <td>DELAND</td>\n",
       "      <td>FL</td>\n",
       "      <td>32720</td>\n",
       "      <td>3869434522</td>\n",
       "      <td>630</td>\n",
       "      <td>Volusia</td>\n",
       "      <td>Non profit - Corporation</td>\n",
       "      <td>...</td>\n",
       "      <td>NaN</td>\n",
       "      <td>0</td>\n",
       "      <td>0.00</td>\n",
       "      <td>0</td>\n",
       "      <td>0</td>\n",
       "      <td>701 W PLYMOUTH AVE,DELAND,FL,32720</td>\n",
       "      <td>29.0426</td>\n",
       "      <td>-81.316</td>\n",
       "      <td>NaN</td>\n",
       "      <td>2024-07-01</td>\n",
       "    </tr>\n",
       "    <tr>\n",
       "      <th>14831</th>\n",
       "      <td>745038</td>\n",
       "      <td>TIERRA ESTE NURSING AND REHABILITATION CENTER</td>\n",
       "      <td>14300 PEBBLE HILLS BLVD</td>\n",
       "      <td>EL PASO</td>\n",
       "      <td>TX</td>\n",
       "      <td>79938</td>\n",
       "      <td>9159559998</td>\n",
       "      <td>480</td>\n",
       "      <td>El Paso</td>\n",
       "      <td>For profit - Corporation</td>\n",
       "      <td>...</td>\n",
       "      <td>NaN</td>\n",
       "      <td>7</td>\n",
       "      <td>31574.79</td>\n",
       "      <td>0</td>\n",
       "      <td>7</td>\n",
       "      <td>14300 PEBBLE HILLS BLVD,EL PASO,TX,79938</td>\n",
       "      <td>31.7822</td>\n",
       "      <td>-106.230</td>\n",
       "      <td>NaN</td>\n",
       "      <td>2024-07-01</td>\n",
       "    </tr>\n",
       "    <tr>\n",
       "      <th>14832</th>\n",
       "      <td>745039</td>\n",
       "      <td>MIDTOWNE MEADOWS HEALTH AND REHAB</td>\n",
       "      <td>110 DYLAN WAY</td>\n",
       "      <td>MIDLOTHIAN</td>\n",
       "      <td>TX</td>\n",
       "      <td>76065</td>\n",
       "      <td>1111</td>\n",
       "      <td>470</td>\n",
       "      <td>Ellis</td>\n",
       "      <td>For profit - Limited Liability company</td>\n",
       "      <td>...</td>\n",
       "      <td>NaN</td>\n",
       "      <td>5</td>\n",
       "      <td>19992.44</td>\n",
       "      <td>0</td>\n",
       "      <td>5</td>\n",
       "      <td>110 DYLAN WAY,MIDLOTHIAN,TX,76065</td>\n",
       "      <td>32.4783</td>\n",
       "      <td>-96.982</td>\n",
       "      <td>22.0</td>\n",
       "      <td>2024-07-01</td>\n",
       "    </tr>\n",
       "  </tbody>\n",
       "</table>\n",
       "<p>205 rows × 103 columns</p>\n",
       "</div>"
      ],
      "text/plain": [
       "      CMS Certification Number (CCN)  \\\n",
       "133                           015217   \n",
       "227                           025019   \n",
       "232                           025026   \n",
       "235                           025030   \n",
       "303                           035146   \n",
       "...                              ...   \n",
       "14491                         676132   \n",
       "14791                         676476   \n",
       "14818                         686127   \n",
       "14831                         745038   \n",
       "14832                         745039   \n",
       "\n",
       "                                       Provider Name  \\\n",
       "133    BIRMINGHAM NURSING AND REHABILITATION CTR LLC   \n",
       "227                    PETERSBURG MEDICAL CENTER LTC   \n",
       "232                              QUYANNA CARE CENTER   \n",
       "235                 PROVIDENCE KODIAK ISLAND MED LTC   \n",
       "303              LIFE CARE CENTER OF PARADISE VALLEY   \n",
       "...                                              ...   \n",
       "14491            TRAIL LAKE NURSING & REHABILITATION   \n",
       "14791                    THE HEIGHTS ON VALLEY RANCH   \n",
       "14818                            ADVENTHEALTH DELAND   \n",
       "14831  TIERRA ESTE NURSING AND REHABILITATION CENTER   \n",
       "14832              MIDTOWNE MEADOWS HEALTH AND REHAB   \n",
       "\n",
       "                 Provider Address   City/Town State  ZIP Code  \\\n",
       "133             1000 DUGAN AVENUE  BIRMINGHAM    AL     35214   \n",
       "227               103 FRAM STREET  PETERSBURG    AK     99833   \n",
       "232     1100 GREG KRUSCHEK AVENUE        NOME    AK     99762   \n",
       "235          1915 E REZANOF DRIVE      KODIAK    AK     99615   \n",
       "303           4065 EAST BELL ROAD     PHOENIX    AZ     85032   \n",
       "...                           ...         ...   ...       ...   \n",
       "14491          7100 TRAIL LAKE DR  FORT WORTH    TX     76133   \n",
       "14791  23200 VALLEY RANCH PARKWAY      PORTER    TX     77365   \n",
       "14818          701 W PLYMOUTH AVE      DELAND    FL     32720   \n",
       "14831     14300 PEBBLE HILLS BLVD     EL PASO    TX     79938   \n",
       "14832               110 DYLAN WAY  MIDLOTHIAN    TX     76065   \n",
       "\n",
       "       Telephone Number  Provider SSA County Code          County/Parish  \\\n",
       "133          2057988780                       360              Jefferson   \n",
       "227          9077724291                       195     Petersburg Borough   \n",
       "232          9074433311                       180                   Nome   \n",
       "235          9074867800                       150  Kodiak Island Borough   \n",
       "303          6028670212                        60               Maricopa   \n",
       "...                 ...                       ...                    ...   \n",
       "14491        8172632224                       910                Tarrant   \n",
       "14791        3463265085                       801             Montgomery   \n",
       "14818        3869434522                       630                Volusia   \n",
       "14831        9159559998                       480                El Paso   \n",
       "14832              1111                       470                  Ellis   \n",
       "\n",
       "                               Ownership Type  ...  \\\n",
       "133    For profit - Limited Liability company  ...   \n",
       "227                  Government - City/county  ...   \n",
       "232                  Non profit - Corporation  ...   \n",
       "235                  Non profit - Corporation  ...   \n",
       "303                  For profit - Corporation  ...   \n",
       "...                                       ...  ...   \n",
       "14491  For profit - Limited Liability company  ...   \n",
       "14791  For profit - Limited Liability company  ...   \n",
       "14818                Non profit - Corporation  ...   \n",
       "14831                For profit - Corporation  ...   \n",
       "14832  For profit - Limited Liability company  ...   \n",
       "\n",
       "       Number of Citations from Infection Control Inspections  \\\n",
       "133                                                  0.0        \n",
       "227                                                  NaN        \n",
       "232                                                  NaN        \n",
       "235                                                  NaN        \n",
       "303                                                  0.0        \n",
       "...                                                  ...        \n",
       "14491                                                9.0        \n",
       "14791                                                0.0        \n",
       "14818                                                NaN        \n",
       "14831                                                NaN        \n",
       "14832                                                NaN        \n",
       "\n",
       "       Number of Fines  Total Amount of Fines in Dollars  \\\n",
       "133                  2                         323706.50   \n",
       "227                  0                              0.00   \n",
       "232                  1                            975.00   \n",
       "235                  1                          15000.00   \n",
       "303                  1                          72146.75   \n",
       "...                ...                               ...   \n",
       "14491                9                         178390.46   \n",
       "14791                0                              0.00   \n",
       "14818                0                              0.00   \n",
       "14831                7                          31574.79   \n",
       "14832                5                          19992.44   \n",
       "\n",
       "      Number of Payment Denials Total Number of Penalties  \\\n",
       "133                           0                         2   \n",
       "227                           0                         0   \n",
       "232                           0                         1   \n",
       "235                           0                         1   \n",
       "303                           0                         1   \n",
       "...                         ...                       ...   \n",
       "14491                         0                         9   \n",
       "14791                         0                         0   \n",
       "14818                         0                         0   \n",
       "14831                         0                         7   \n",
       "14832                         0                         5   \n",
       "\n",
       "                                         Location Latitude Longitude  \\\n",
       "133         1000 DUGAN AVENUE,BIRMINGHAM,AL,35214  33.5460   -86.881   \n",
       "227           103 FRAM STREET,PETERSBURG,AK,99833  56.8125  -132.956   \n",
       "232       1100 GREG KRUSCHEK AVENUE,NOME,AK,99762  64.7874  -165.197   \n",
       "235          1915 E REZANOF DRIVE,KODIAK,AK,99615  57.8010  -152.374   \n",
       "303          4065 EAST BELL ROAD,PHOENIX,AZ,85032  33.6407  -111.994   \n",
       "...                                           ...      ...       ...   \n",
       "14491      7100 TRAIL LAKE DR,FORT WORTH,TX,76133  32.6418   -97.401   \n",
       "14791  23200 VALLEY RANCH PARKWAY,PORTER,TX,77365  30.1157   -95.251   \n",
       "14818          701 W PLYMOUTH AVE,DELAND,FL,32720  29.0426   -81.316   \n",
       "14831    14300 PEBBLE HILLS BLVD,EL PASO,TX,79938  31.7822  -106.230   \n",
       "14832           110 DYLAN WAY,MIDLOTHIAN,TX,76065  32.4783   -96.982   \n",
       "\n",
       "       Geocoding Footnote Processing Date  \n",
       "133                   NaN      2024-07-01  \n",
       "227                   NaN      2024-07-01  \n",
       "232                  22.0      2024-07-01  \n",
       "235                   NaN      2024-07-01  \n",
       "303                   NaN      2024-07-01  \n",
       "...                   ...             ...  \n",
       "14491                 NaN      2024-07-01  \n",
       "14791                 NaN      2024-07-01  \n",
       "14818                 NaN      2024-07-01  \n",
       "14831                 NaN      2024-07-01  \n",
       "14832                22.0      2024-07-01  \n",
       "\n",
       "[205 rows x 103 columns]"
      ]
     },
     "execution_count": 3,
     "metadata": {},
     "output_type": "execute_result"
    }
   ],
   "source": [
    "provider_info[provider_info['Staffing Rating'].isna()]"
   ]
  },
  {
   "cell_type": "code",
   "execution_count": 4,
   "metadata": {},
   "outputs": [],
   "source": [
    "# We have a lot of missing data! I will impute the NaN values by calculating the mean values for each state and filling them in respectively. \n",
    "def removeNA(col):\n",
    "    citations_present = provider_info[~provider_info[col].isna()]\n",
    "    mean_citations_state = citations_present[['State', col]].groupby('State').mean()\n",
    "    mean_citations_state_dict = mean_citations_state[col].to_dict()\n",
    "    return mean_citations_state_dict\n",
    "\n",
    "infection_control_dict = removeNA('Number of Citations from Infection Control Inspections')\n",
    "health_inspection_dict = removeNA('Health Inspection Rating')\n",
    "average_resident_num_dict = removeNA('Average Number of Residents per Day')\n",
    "overall_rating_dict = removeNA('Overall Rating')\n",
    "qm_rating_dict = removeNA('QM Rating')\n",
    "staffing_rating_dict = removeNA('Staffing Rating')"
   ]
  },
  {
   "cell_type": "code",
   "execution_count": 5,
   "metadata": {},
   "outputs": [
    {
     "data": {
      "text/html": [
       "<div>\n",
       "<style scoped>\n",
       "    .dataframe tbody tr th:only-of-type {\n",
       "        vertical-align: middle;\n",
       "    }\n",
       "\n",
       "    .dataframe tbody tr th {\n",
       "        vertical-align: top;\n",
       "    }\n",
       "\n",
       "    .dataframe thead th {\n",
       "        text-align: right;\n",
       "    }\n",
       "</style>\n",
       "<table border=\"1\" class=\"dataframe\">\n",
       "  <thead>\n",
       "    <tr style=\"text-align: right;\">\n",
       "      <th></th>\n",
       "      <th>CMS Certification Number (CCN)</th>\n",
       "      <th>State</th>\n",
       "      <th>Ownership Type</th>\n",
       "      <th>Number of Certified Beds</th>\n",
       "      <th>Average Number of Residents per Day</th>\n",
       "      <th>Provider Type</th>\n",
       "      <th>Special Focus Status</th>\n",
       "      <th>Abuse Icon</th>\n",
       "      <th>Overall Rating</th>\n",
       "      <th>Health Inspection Rating</th>\n",
       "      <th>QM Rating</th>\n",
       "      <th>Staffing Rating</th>\n",
       "      <th>Number of Citations from Infection Control Inspections</th>\n",
       "      <th>Total Amount of Fines in Dollars</th>\n",
       "    </tr>\n",
       "  </thead>\n",
       "  <tbody>\n",
       "    <tr>\n",
       "      <th>0</th>\n",
       "      <td>015009</td>\n",
       "      <td>AL</td>\n",
       "      <td>For profit - Corporation</td>\n",
       "      <td>57</td>\n",
       "      <td>50.0</td>\n",
       "      <td>Medicare and Medicaid</td>\n",
       "      <td>NaN</td>\n",
       "      <td>N</td>\n",
       "      <td>2.0</td>\n",
       "      <td>2.0</td>\n",
       "      <td>4.0</td>\n",
       "      <td>4.0</td>\n",
       "      <td>0.717391</td>\n",
       "      <td>24644.14</td>\n",
       "    </tr>\n",
       "    <tr>\n",
       "      <th>1</th>\n",
       "      <td>015010</td>\n",
       "      <td>AL</td>\n",
       "      <td>For profit - Corporation</td>\n",
       "      <td>85</td>\n",
       "      <td>76.9</td>\n",
       "      <td>Medicare and Medicaid</td>\n",
       "      <td>NaN</td>\n",
       "      <td>N</td>\n",
       "      <td>4.0</td>\n",
       "      <td>4.0</td>\n",
       "      <td>4.0</td>\n",
       "      <td>3.0</td>\n",
       "      <td>0.000000</td>\n",
       "      <td>0.00</td>\n",
       "    </tr>\n",
       "    <tr>\n",
       "      <th>2</th>\n",
       "      <td>015012</td>\n",
       "      <td>AL</td>\n",
       "      <td>Government - County</td>\n",
       "      <td>50</td>\n",
       "      <td>45.1</td>\n",
       "      <td>Medicare and Medicaid</td>\n",
       "      <td>NaN</td>\n",
       "      <td>N</td>\n",
       "      <td>4.0</td>\n",
       "      <td>4.0</td>\n",
       "      <td>2.0</td>\n",
       "      <td>3.0</td>\n",
       "      <td>0.717391</td>\n",
       "      <td>0.00</td>\n",
       "    </tr>\n",
       "    <tr>\n",
       "      <th>3</th>\n",
       "      <td>015014</td>\n",
       "      <td>AL</td>\n",
       "      <td>For profit - Individual</td>\n",
       "      <td>92</td>\n",
       "      <td>76.9</td>\n",
       "      <td>Medicare and Medicaid</td>\n",
       "      <td>NaN</td>\n",
       "      <td>N</td>\n",
       "      <td>2.0</td>\n",
       "      <td>3.0</td>\n",
       "      <td>3.0</td>\n",
       "      <td>1.0</td>\n",
       "      <td>0.000000</td>\n",
       "      <td>0.00</td>\n",
       "    </tr>\n",
       "    <tr>\n",
       "      <th>4</th>\n",
       "      <td>015015</td>\n",
       "      <td>AL</td>\n",
       "      <td>For profit - Individual</td>\n",
       "      <td>103</td>\n",
       "      <td>86.6</td>\n",
       "      <td>Medicare and Medicaid</td>\n",
       "      <td>NaN</td>\n",
       "      <td>N</td>\n",
       "      <td>2.0</td>\n",
       "      <td>2.0</td>\n",
       "      <td>2.0</td>\n",
       "      <td>4.0</td>\n",
       "      <td>0.717391</td>\n",
       "      <td>0.00</td>\n",
       "    </tr>\n",
       "  </tbody>\n",
       "</table>\n",
       "</div>"
      ],
      "text/plain": [
       "  CMS Certification Number (CCN) State            Ownership Type  \\\n",
       "0                         015009    AL  For profit - Corporation   \n",
       "1                         015010    AL  For profit - Corporation   \n",
       "2                         015012    AL       Government - County   \n",
       "3                         015014    AL   For profit - Individual   \n",
       "4                         015015    AL   For profit - Individual   \n",
       "\n",
       "   Number of Certified Beds  Average Number of Residents per Day  \\\n",
       "0                        57                                 50.0   \n",
       "1                        85                                 76.9   \n",
       "2                        50                                 45.1   \n",
       "3                        92                                 76.9   \n",
       "4                       103                                 86.6   \n",
       "\n",
       "           Provider Type Special Focus Status Abuse Icon  Overall Rating  \\\n",
       "0  Medicare and Medicaid                  NaN          N             2.0   \n",
       "1  Medicare and Medicaid                  NaN          N             4.0   \n",
       "2  Medicare and Medicaid                  NaN          N             4.0   \n",
       "3  Medicare and Medicaid                  NaN          N             2.0   \n",
       "4  Medicare and Medicaid                  NaN          N             2.0   \n",
       "\n",
       "   Health Inspection Rating  QM Rating  Staffing Rating  \\\n",
       "0                       2.0        4.0              4.0   \n",
       "1                       4.0        4.0              3.0   \n",
       "2                       4.0        2.0              3.0   \n",
       "3                       3.0        3.0              1.0   \n",
       "4                       2.0        2.0              4.0   \n",
       "\n",
       "   Number of Citations from Infection Control Inspections  \\\n",
       "0                                           0.717391        \n",
       "1                                           0.000000        \n",
       "2                                           0.717391        \n",
       "3                                           0.000000        \n",
       "4                                           0.717391        \n",
       "\n",
       "   Total Amount of Fines in Dollars  \n",
       "0                          24644.14  \n",
       "1                              0.00  \n",
       "2                              0.00  \n",
       "3                              0.00  \n",
       "4                              0.00  "
      ]
     },
     "execution_count": 5,
     "metadata": {},
     "output_type": "execute_result"
    }
   ],
   "source": [
    "def fillNA(col, state_mean_dct):\n",
    "    provider_info[col] = provider_info[col].fillna(provider_info['State'].map(state_mean_dct))\n",
    "    return provider_info\n",
    "provider_info = fillNA('Number of Citations from Infection Control Inspections', infection_control_dict)\n",
    "provider_info = fillNA('Average Number of Residents per Day', average_resident_num_dict)\n",
    "provider_info = fillNA('Overall Rating', overall_rating_dict)\n",
    "provider_info = fillNA('QM Rating', qm_rating_dict)\n",
    "provider_info = fillNA('Staffing Rating', staffing_rating_dict)\n",
    "provider_info = fillNA('Health Inspection Rating', health_inspection_dict)\n",
    "\n",
    "smaller_provider_info = provider_info[['CMS Certification Number (CCN)', 'State', 'Ownership Type', 'Number of Certified Beds', 'Average Number of Residents per Day', \\\n",
    "                                       'Provider Type', 'Special Focus Status', 'Abuse Icon', 'Overall Rating', 'Health Inspection Rating',\\\n",
    "                                        'QM Rating', 'Staffing Rating', 'Number of Citations from Infection Control Inspections', 'Total Amount of Fines in Dollars']]\n",
    "smaller_provider_info.head()"
   ]
  },
  {
   "cell_type": "code",
   "execution_count": 6,
   "metadata": {},
   "outputs": [
    {
     "name": "stderr",
     "output_type": "stream",
     "text": [
      "/var/folders/5l/vsm1wvjn4qdg25qwjfcj83kr0000gn/T/ipykernel_6212/2116436996.py:2: SettingWithCopyWarning: \n",
      "A value is trying to be set on a copy of a slice from a DataFrame.\n",
      "Try using .loc[row_indexer,col_indexer] = value instead\n",
      "\n",
      "See the caveats in the documentation: https://pandas.pydata.org/pandas-docs/stable/user_guide/indexing.html#returning-a-view-versus-a-copy\n",
      "  smaller_provider_info['Abuse Icon'] = smaller_provider_info['Abuse Icon'].replace('N', 0)\n",
      "/var/folders/5l/vsm1wvjn4qdg25qwjfcj83kr0000gn/T/ipykernel_6212/2116436996.py:3: FutureWarning: Downcasting behavior in `replace` is deprecated and will be removed in a future version. To retain the old behavior, explicitly call `result.infer_objects(copy=False)`. To opt-in to the future behavior, set `pd.set_option('future.no_silent_downcasting', True)`\n",
      "  smaller_provider_info['Abuse Icon'] = smaller_provider_info['Abuse Icon'].replace('Y', 1)\n",
      "/var/folders/5l/vsm1wvjn4qdg25qwjfcj83kr0000gn/T/ipykernel_6212/2116436996.py:3: SettingWithCopyWarning: \n",
      "A value is trying to be set on a copy of a slice from a DataFrame.\n",
      "Try using .loc[row_indexer,col_indexer] = value instead\n",
      "\n",
      "See the caveats in the documentation: https://pandas.pydata.org/pandas-docs/stable/user_guide/indexing.html#returning-a-view-versus-a-copy\n",
      "  smaller_provider_info['Abuse Icon'] = smaller_provider_info['Abuse Icon'].replace('Y', 1)\n"
     ]
    },
    {
     "data": {
      "text/html": [
       "<div>\n",
       "<style scoped>\n",
       "    .dataframe tbody tr th:only-of-type {\n",
       "        vertical-align: middle;\n",
       "    }\n",
       "\n",
       "    .dataframe tbody tr th {\n",
       "        vertical-align: top;\n",
       "    }\n",
       "\n",
       "    .dataframe thead th {\n",
       "        text-align: right;\n",
       "    }\n",
       "</style>\n",
       "<table border=\"1\" class=\"dataframe\">\n",
       "  <thead>\n",
       "    <tr style=\"text-align: right;\">\n",
       "      <th></th>\n",
       "      <th>CMS Certification Number (CCN)</th>\n",
       "      <th>State</th>\n",
       "      <th>Ownership Type</th>\n",
       "      <th>Number of Certified Beds</th>\n",
       "      <th>Average Number of Residents per Day</th>\n",
       "      <th>Provider Type</th>\n",
       "      <th>Special Focus Status</th>\n",
       "      <th>Abuse Icon</th>\n",
       "      <th>Overall Rating</th>\n",
       "      <th>Health Inspection Rating</th>\n",
       "      <th>QM Rating</th>\n",
       "      <th>Staffing Rating</th>\n",
       "      <th>Number of Citations from Infection Control Inspections</th>\n",
       "      <th>Total Amount of Fines in Dollars</th>\n",
       "    </tr>\n",
       "  </thead>\n",
       "  <tbody>\n",
       "    <tr>\n",
       "      <th>0</th>\n",
       "      <td>015009</td>\n",
       "      <td>AL</td>\n",
       "      <td>For profit - Corporation</td>\n",
       "      <td>57</td>\n",
       "      <td>50.0</td>\n",
       "      <td>Medicare and Medicaid</td>\n",
       "      <td>NaN</td>\n",
       "      <td>0</td>\n",
       "      <td>2.0</td>\n",
       "      <td>2.0</td>\n",
       "      <td>4.0</td>\n",
       "      <td>4.0</td>\n",
       "      <td>0.717391</td>\n",
       "      <td>24644.14</td>\n",
       "    </tr>\n",
       "    <tr>\n",
       "      <th>1</th>\n",
       "      <td>015010</td>\n",
       "      <td>AL</td>\n",
       "      <td>For profit - Corporation</td>\n",
       "      <td>85</td>\n",
       "      <td>76.9</td>\n",
       "      <td>Medicare and Medicaid</td>\n",
       "      <td>NaN</td>\n",
       "      <td>0</td>\n",
       "      <td>4.0</td>\n",
       "      <td>4.0</td>\n",
       "      <td>4.0</td>\n",
       "      <td>3.0</td>\n",
       "      <td>0.000000</td>\n",
       "      <td>0.00</td>\n",
       "    </tr>\n",
       "    <tr>\n",
       "      <th>2</th>\n",
       "      <td>015012</td>\n",
       "      <td>AL</td>\n",
       "      <td>Government - County</td>\n",
       "      <td>50</td>\n",
       "      <td>45.1</td>\n",
       "      <td>Medicare and Medicaid</td>\n",
       "      <td>NaN</td>\n",
       "      <td>0</td>\n",
       "      <td>4.0</td>\n",
       "      <td>4.0</td>\n",
       "      <td>2.0</td>\n",
       "      <td>3.0</td>\n",
       "      <td>0.717391</td>\n",
       "      <td>0.00</td>\n",
       "    </tr>\n",
       "    <tr>\n",
       "      <th>3</th>\n",
       "      <td>015014</td>\n",
       "      <td>AL</td>\n",
       "      <td>For profit - Individual</td>\n",
       "      <td>92</td>\n",
       "      <td>76.9</td>\n",
       "      <td>Medicare and Medicaid</td>\n",
       "      <td>NaN</td>\n",
       "      <td>0</td>\n",
       "      <td>2.0</td>\n",
       "      <td>3.0</td>\n",
       "      <td>3.0</td>\n",
       "      <td>1.0</td>\n",
       "      <td>0.000000</td>\n",
       "      <td>0.00</td>\n",
       "    </tr>\n",
       "    <tr>\n",
       "      <th>4</th>\n",
       "      <td>015015</td>\n",
       "      <td>AL</td>\n",
       "      <td>For profit - Individual</td>\n",
       "      <td>103</td>\n",
       "      <td>86.6</td>\n",
       "      <td>Medicare and Medicaid</td>\n",
       "      <td>NaN</td>\n",
       "      <td>0</td>\n",
       "      <td>2.0</td>\n",
       "      <td>2.0</td>\n",
       "      <td>2.0</td>\n",
       "      <td>4.0</td>\n",
       "      <td>0.717391</td>\n",
       "      <td>0.00</td>\n",
       "    </tr>\n",
       "  </tbody>\n",
       "</table>\n",
       "</div>"
      ],
      "text/plain": [
       "  CMS Certification Number (CCN) State            Ownership Type  \\\n",
       "0                         015009    AL  For profit - Corporation   \n",
       "1                         015010    AL  For profit - Corporation   \n",
       "2                         015012    AL       Government - County   \n",
       "3                         015014    AL   For profit - Individual   \n",
       "4                         015015    AL   For profit - Individual   \n",
       "\n",
       "   Number of Certified Beds  Average Number of Residents per Day  \\\n",
       "0                        57                                 50.0   \n",
       "1                        85                                 76.9   \n",
       "2                        50                                 45.1   \n",
       "3                        92                                 76.9   \n",
       "4                       103                                 86.6   \n",
       "\n",
       "           Provider Type Special Focus Status  Abuse Icon  Overall Rating  \\\n",
       "0  Medicare and Medicaid                  NaN           0             2.0   \n",
       "1  Medicare and Medicaid                  NaN           0             4.0   \n",
       "2  Medicare and Medicaid                  NaN           0             4.0   \n",
       "3  Medicare and Medicaid                  NaN           0             2.0   \n",
       "4  Medicare and Medicaid                  NaN           0             2.0   \n",
       "\n",
       "   Health Inspection Rating  QM Rating  Staffing Rating  \\\n",
       "0                       2.0        4.0              4.0   \n",
       "1                       4.0        4.0              3.0   \n",
       "2                       4.0        2.0              3.0   \n",
       "3                       3.0        3.0              1.0   \n",
       "4                       2.0        2.0              4.0   \n",
       "\n",
       "   Number of Citations from Infection Control Inspections  \\\n",
       "0                                           0.717391        \n",
       "1                                           0.000000        \n",
       "2                                           0.717391        \n",
       "3                                           0.000000        \n",
       "4                                           0.717391        \n",
       "\n",
       "   Total Amount of Fines in Dollars  \n",
       "0                          24644.14  \n",
       "1                              0.00  \n",
       "2                              0.00  \n",
       "3                              0.00  \n",
       "4                              0.00  "
      ]
     },
     "execution_count": 6,
     "metadata": {},
     "output_type": "execute_result"
    }
   ],
   "source": [
    "# Let's replace all the 'N' in the 'Abuse Icon' with 0. We will also replace all the 'Y' in this column with 1 to make statistical analysis easier.\n",
    "smaller_provider_info['Abuse Icon'] = smaller_provider_info['Abuse Icon'].replace('N', 0)\n",
    "smaller_provider_info['Abuse Icon'] = smaller_provider_info['Abuse Icon'].replace('Y', 1)\n",
    "smaller_provider_info.head()"
   ]
  },
  {
   "cell_type": "markdown",
   "metadata": {},
   "source": [
    "#### Exploratory Data Analysis (EDA)"
   ]
  },
  {
   "cell_type": "code",
   "execution_count": 7,
   "metadata": {},
   "outputs": [
    {
     "data": {
      "text/html": [
       "<div>\n",
       "<style scoped>\n",
       "    .dataframe tbody tr th:only-of-type {\n",
       "        vertical-align: middle;\n",
       "    }\n",
       "\n",
       "    .dataframe tbody tr th {\n",
       "        vertical-align: top;\n",
       "    }\n",
       "\n",
       "    .dataframe thead th {\n",
       "        text-align: right;\n",
       "    }\n",
       "</style>\n",
       "<table border=\"1\" class=\"dataframe\">\n",
       "  <thead>\n",
       "    <tr style=\"text-align: right;\">\n",
       "      <th></th>\n",
       "      <th>State</th>\n",
       "      <th>QM Rating</th>\n",
       "    </tr>\n",
       "  </thead>\n",
       "  <tbody>\n",
       "    <tr>\n",
       "      <th>0</th>\n",
       "      <td>HI</td>\n",
       "      <td>4.658537</td>\n",
       "    </tr>\n",
       "    <tr>\n",
       "      <th>1</th>\n",
       "      <td>NJ</td>\n",
       "      <td>4.438235</td>\n",
       "    </tr>\n",
       "    <tr>\n",
       "      <th>2</th>\n",
       "      <td>UT</td>\n",
       "      <td>4.371134</td>\n",
       "    </tr>\n",
       "    <tr>\n",
       "      <th>3</th>\n",
       "      <td>CA</td>\n",
       "      <td>4.328371</td>\n",
       "    </tr>\n",
       "    <tr>\n",
       "      <th>4</th>\n",
       "      <td>ID</td>\n",
       "      <td>4.282051</td>\n",
       "    </tr>\n",
       "  </tbody>\n",
       "</table>\n",
       "</div>"
      ],
      "text/plain": [
       "  State  QM Rating\n",
       "0    HI   4.658537\n",
       "1    NJ   4.438235\n",
       "2    UT   4.371134\n",
       "3    CA   4.328371\n",
       "4    ID   4.282051"
      ]
     },
     "execution_count": 7,
     "metadata": {},
     "output_type": "execute_result"
    }
   ],
   "source": [
    "# QM (quality measure) map on USA\n",
    "qm_rating = smaller_provider_info.groupby('State')[['QM Rating']].mean().sort_values(by = 'QM Rating', ascending = False).reset_index()\n",
    "qm_rating.head()"
   ]
  },
  {
   "cell_type": "code",
   "execution_count": 24,
   "metadata": {},
   "outputs": [
    {
     "data": {
      "application/vnd.plotly.v1+json": {
       "config": {
        "plotlyServerURL": "https://plot.ly"
       },
       "data": [
        {
         "coloraxis": "coloraxis",
         "geo": "geo",
         "hovertemplate": "State=%{location}<br>QM Rating=%{z}<extra></extra>",
         "locationmode": "USA-states",
         "locations": [
          "HI",
          "NJ",
          "UT",
          "CA",
          "ID",
          "DE",
          "AZ",
          "DC",
          "OH",
          "IN",
          "FL",
          "AK",
          "CO",
          "WA",
          "MI",
          "NY",
          "NV",
          "VA",
          "MD",
          "TX",
          "MN",
          "AR",
          "PA",
          "WI",
          "OR",
          "NM",
          "MA",
          "CT",
          "ND",
          "RI",
          "NE",
          "IA",
          "WY",
          "TN",
          "SC",
          "MT",
          "ME",
          "KS",
          "AL",
          "NH",
          "IL",
          "NC",
          "SD",
          "KY",
          "WV",
          "MO",
          "OK",
          "GA",
          "VT",
          "LA",
          "MS",
          "GU",
          "PR"
         ],
         "name": "",
         "type": "choropleth",
         "z": [
          4.658536585365853,
          4.438235294117647,
          4.371134020618557,
          4.328371278458844,
          4.282051282051282,
          4.27906976744186,
          4.2214285714285715,
          4.125,
          4.027533039647577,
          4.005905511811024,
          3.975146198830409,
          3.95,
          3.8666666666666667,
          3.8333333333333335,
          3.831353919239905,
          3.820945945945946,
          3.78125,
          3.6421052631578945,
          3.5825688073394493,
          3.5299145299145303,
          3.5249266862170088,
          3.5140186915887854,
          3.4984939759036147,
          3.393188854489164,
          3.373015873015873,
          3.323076923076923,
          3.2944606413994166,
          3.285714285714286,
          3.27027027027027,
          3.2602739726027394,
          3.2459016393442623,
          3.241813602015113,
          3.1818181818181817,
          3.175084175084175,
          3.1567567567567565,
          3.135593220338983,
          3.1125000000000003,
          3.0933333333333333,
          3.0588235294117645,
          3,
          2.9985207100591715,
          2.9782082324455206,
          2.924731182795699,
          2.8981132075471696,
          2.8333333333333335,
          2.7867494824016563,
          2.7719298245614037,
          2.732193732193732,
          2.727272727272727,
          2.0733590733590734,
          1.990049751243781,
          null,
          null
         ]
        }
       ],
       "layout": {
        "coloraxis": {
         "colorbar": {
          "title": {
           "text": "QM Rating"
          }
         },
         "colorscale": [
          [
           0,
           "rgb(103,0,31)"
          ],
          [
           0.1,
           "rgb(178,24,43)"
          ],
          [
           0.2,
           "rgb(214,96,77)"
          ],
          [
           0.3,
           "rgb(244,165,130)"
          ],
          [
           0.4,
           "rgb(253,219,199)"
          ],
          [
           0.5,
           "rgb(247,247,247)"
          ],
          [
           0.6,
           "rgb(209,229,240)"
          ],
          [
           0.7,
           "rgb(146,197,222)"
          ],
          [
           0.8,
           "rgb(67,147,195)"
          ],
          [
           0.9,
           "rgb(33,102,172)"
          ],
          [
           1,
           "rgb(5,48,97)"
          ]
         ]
        },
        "geo": {
         "center": {},
         "domain": {
          "x": [
           0,
           1
          ],
          "y": [
           0,
           1
          ]
         },
         "scope": "usa"
        },
        "legend": {
         "tracegroupgap": 0
        },
        "template": {
         "data": {
          "bar": [
           {
            "error_x": {
             "color": "#2a3f5f"
            },
            "error_y": {
             "color": "#2a3f5f"
            },
            "marker": {
             "line": {
              "color": "#E5ECF6",
              "width": 0.5
             },
             "pattern": {
              "fillmode": "overlay",
              "size": 10,
              "solidity": 0.2
             }
            },
            "type": "bar"
           }
          ],
          "barpolar": [
           {
            "marker": {
             "line": {
              "color": "#E5ECF6",
              "width": 0.5
             },
             "pattern": {
              "fillmode": "overlay",
              "size": 10,
              "solidity": 0.2
             }
            },
            "type": "barpolar"
           }
          ],
          "carpet": [
           {
            "aaxis": {
             "endlinecolor": "#2a3f5f",
             "gridcolor": "white",
             "linecolor": "white",
             "minorgridcolor": "white",
             "startlinecolor": "#2a3f5f"
            },
            "baxis": {
             "endlinecolor": "#2a3f5f",
             "gridcolor": "white",
             "linecolor": "white",
             "minorgridcolor": "white",
             "startlinecolor": "#2a3f5f"
            },
            "type": "carpet"
           }
          ],
          "choropleth": [
           {
            "colorbar": {
             "outlinewidth": 0,
             "ticks": ""
            },
            "type": "choropleth"
           }
          ],
          "contour": [
           {
            "colorbar": {
             "outlinewidth": 0,
             "ticks": ""
            },
            "colorscale": [
             [
              0,
              "#0d0887"
             ],
             [
              0.1111111111111111,
              "#46039f"
             ],
             [
              0.2222222222222222,
              "#7201a8"
             ],
             [
              0.3333333333333333,
              "#9c179e"
             ],
             [
              0.4444444444444444,
              "#bd3786"
             ],
             [
              0.5555555555555556,
              "#d8576b"
             ],
             [
              0.6666666666666666,
              "#ed7953"
             ],
             [
              0.7777777777777778,
              "#fb9f3a"
             ],
             [
              0.8888888888888888,
              "#fdca26"
             ],
             [
              1,
              "#f0f921"
             ]
            ],
            "type": "contour"
           }
          ],
          "contourcarpet": [
           {
            "colorbar": {
             "outlinewidth": 0,
             "ticks": ""
            },
            "type": "contourcarpet"
           }
          ],
          "heatmap": [
           {
            "colorbar": {
             "outlinewidth": 0,
             "ticks": ""
            },
            "colorscale": [
             [
              0,
              "#0d0887"
             ],
             [
              0.1111111111111111,
              "#46039f"
             ],
             [
              0.2222222222222222,
              "#7201a8"
             ],
             [
              0.3333333333333333,
              "#9c179e"
             ],
             [
              0.4444444444444444,
              "#bd3786"
             ],
             [
              0.5555555555555556,
              "#d8576b"
             ],
             [
              0.6666666666666666,
              "#ed7953"
             ],
             [
              0.7777777777777778,
              "#fb9f3a"
             ],
             [
              0.8888888888888888,
              "#fdca26"
             ],
             [
              1,
              "#f0f921"
             ]
            ],
            "type": "heatmap"
           }
          ],
          "heatmapgl": [
           {
            "colorbar": {
             "outlinewidth": 0,
             "ticks": ""
            },
            "colorscale": [
             [
              0,
              "#0d0887"
             ],
             [
              0.1111111111111111,
              "#46039f"
             ],
             [
              0.2222222222222222,
              "#7201a8"
             ],
             [
              0.3333333333333333,
              "#9c179e"
             ],
             [
              0.4444444444444444,
              "#bd3786"
             ],
             [
              0.5555555555555556,
              "#d8576b"
             ],
             [
              0.6666666666666666,
              "#ed7953"
             ],
             [
              0.7777777777777778,
              "#fb9f3a"
             ],
             [
              0.8888888888888888,
              "#fdca26"
             ],
             [
              1,
              "#f0f921"
             ]
            ],
            "type": "heatmapgl"
           }
          ],
          "histogram": [
           {
            "marker": {
             "pattern": {
              "fillmode": "overlay",
              "size": 10,
              "solidity": 0.2
             }
            },
            "type": "histogram"
           }
          ],
          "histogram2d": [
           {
            "colorbar": {
             "outlinewidth": 0,
             "ticks": ""
            },
            "colorscale": [
             [
              0,
              "#0d0887"
             ],
             [
              0.1111111111111111,
              "#46039f"
             ],
             [
              0.2222222222222222,
              "#7201a8"
             ],
             [
              0.3333333333333333,
              "#9c179e"
             ],
             [
              0.4444444444444444,
              "#bd3786"
             ],
             [
              0.5555555555555556,
              "#d8576b"
             ],
             [
              0.6666666666666666,
              "#ed7953"
             ],
             [
              0.7777777777777778,
              "#fb9f3a"
             ],
             [
              0.8888888888888888,
              "#fdca26"
             ],
             [
              1,
              "#f0f921"
             ]
            ],
            "type": "histogram2d"
           }
          ],
          "histogram2dcontour": [
           {
            "colorbar": {
             "outlinewidth": 0,
             "ticks": ""
            },
            "colorscale": [
             [
              0,
              "#0d0887"
             ],
             [
              0.1111111111111111,
              "#46039f"
             ],
             [
              0.2222222222222222,
              "#7201a8"
             ],
             [
              0.3333333333333333,
              "#9c179e"
             ],
             [
              0.4444444444444444,
              "#bd3786"
             ],
             [
              0.5555555555555556,
              "#d8576b"
             ],
             [
              0.6666666666666666,
              "#ed7953"
             ],
             [
              0.7777777777777778,
              "#fb9f3a"
             ],
             [
              0.8888888888888888,
              "#fdca26"
             ],
             [
              1,
              "#f0f921"
             ]
            ],
            "type": "histogram2dcontour"
           }
          ],
          "mesh3d": [
           {
            "colorbar": {
             "outlinewidth": 0,
             "ticks": ""
            },
            "type": "mesh3d"
           }
          ],
          "parcoords": [
           {
            "line": {
             "colorbar": {
              "outlinewidth": 0,
              "ticks": ""
             }
            },
            "type": "parcoords"
           }
          ],
          "pie": [
           {
            "automargin": true,
            "type": "pie"
           }
          ],
          "scatter": [
           {
            "fillpattern": {
             "fillmode": "overlay",
             "size": 10,
             "solidity": 0.2
            },
            "type": "scatter"
           }
          ],
          "scatter3d": [
           {
            "line": {
             "colorbar": {
              "outlinewidth": 0,
              "ticks": ""
             }
            },
            "marker": {
             "colorbar": {
              "outlinewidth": 0,
              "ticks": ""
             }
            },
            "type": "scatter3d"
           }
          ],
          "scattercarpet": [
           {
            "marker": {
             "colorbar": {
              "outlinewidth": 0,
              "ticks": ""
             }
            },
            "type": "scattercarpet"
           }
          ],
          "scattergeo": [
           {
            "marker": {
             "colorbar": {
              "outlinewidth": 0,
              "ticks": ""
             }
            },
            "type": "scattergeo"
           }
          ],
          "scattergl": [
           {
            "marker": {
             "colorbar": {
              "outlinewidth": 0,
              "ticks": ""
             }
            },
            "type": "scattergl"
           }
          ],
          "scattermapbox": [
           {
            "marker": {
             "colorbar": {
              "outlinewidth": 0,
              "ticks": ""
             }
            },
            "type": "scattermapbox"
           }
          ],
          "scatterpolar": [
           {
            "marker": {
             "colorbar": {
              "outlinewidth": 0,
              "ticks": ""
             }
            },
            "type": "scatterpolar"
           }
          ],
          "scatterpolargl": [
           {
            "marker": {
             "colorbar": {
              "outlinewidth": 0,
              "ticks": ""
             }
            },
            "type": "scatterpolargl"
           }
          ],
          "scatterternary": [
           {
            "marker": {
             "colorbar": {
              "outlinewidth": 0,
              "ticks": ""
             }
            },
            "type": "scatterternary"
           }
          ],
          "surface": [
           {
            "colorbar": {
             "outlinewidth": 0,
             "ticks": ""
            },
            "colorscale": [
             [
              0,
              "#0d0887"
             ],
             [
              0.1111111111111111,
              "#46039f"
             ],
             [
              0.2222222222222222,
              "#7201a8"
             ],
             [
              0.3333333333333333,
              "#9c179e"
             ],
             [
              0.4444444444444444,
              "#bd3786"
             ],
             [
              0.5555555555555556,
              "#d8576b"
             ],
             [
              0.6666666666666666,
              "#ed7953"
             ],
             [
              0.7777777777777778,
              "#fb9f3a"
             ],
             [
              0.8888888888888888,
              "#fdca26"
             ],
             [
              1,
              "#f0f921"
             ]
            ],
            "type": "surface"
           }
          ],
          "table": [
           {
            "cells": {
             "fill": {
              "color": "#EBF0F8"
             },
             "line": {
              "color": "white"
             }
            },
            "header": {
             "fill": {
              "color": "#C8D4E3"
             },
             "line": {
              "color": "white"
             }
            },
            "type": "table"
           }
          ]
         },
         "layout": {
          "annotationdefaults": {
           "arrowcolor": "#2a3f5f",
           "arrowhead": 0,
           "arrowwidth": 1
          },
          "autotypenumbers": "strict",
          "coloraxis": {
           "colorbar": {
            "outlinewidth": 0,
            "ticks": ""
           }
          },
          "colorscale": {
           "diverging": [
            [
             0,
             "#8e0152"
            ],
            [
             0.1,
             "#c51b7d"
            ],
            [
             0.2,
             "#de77ae"
            ],
            [
             0.3,
             "#f1b6da"
            ],
            [
             0.4,
             "#fde0ef"
            ],
            [
             0.5,
             "#f7f7f7"
            ],
            [
             0.6,
             "#e6f5d0"
            ],
            [
             0.7,
             "#b8e186"
            ],
            [
             0.8,
             "#7fbc41"
            ],
            [
             0.9,
             "#4d9221"
            ],
            [
             1,
             "#276419"
            ]
           ],
           "sequential": [
            [
             0,
             "#0d0887"
            ],
            [
             0.1111111111111111,
             "#46039f"
            ],
            [
             0.2222222222222222,
             "#7201a8"
            ],
            [
             0.3333333333333333,
             "#9c179e"
            ],
            [
             0.4444444444444444,
             "#bd3786"
            ],
            [
             0.5555555555555556,
             "#d8576b"
            ],
            [
             0.6666666666666666,
             "#ed7953"
            ],
            [
             0.7777777777777778,
             "#fb9f3a"
            ],
            [
             0.8888888888888888,
             "#fdca26"
            ],
            [
             1,
             "#f0f921"
            ]
           ],
           "sequentialminus": [
            [
             0,
             "#0d0887"
            ],
            [
             0.1111111111111111,
             "#46039f"
            ],
            [
             0.2222222222222222,
             "#7201a8"
            ],
            [
             0.3333333333333333,
             "#9c179e"
            ],
            [
             0.4444444444444444,
             "#bd3786"
            ],
            [
             0.5555555555555556,
             "#d8576b"
            ],
            [
             0.6666666666666666,
             "#ed7953"
            ],
            [
             0.7777777777777778,
             "#fb9f3a"
            ],
            [
             0.8888888888888888,
             "#fdca26"
            ],
            [
             1,
             "#f0f921"
            ]
           ]
          },
          "colorway": [
           "#636efa",
           "#EF553B",
           "#00cc96",
           "#ab63fa",
           "#FFA15A",
           "#19d3f3",
           "#FF6692",
           "#B6E880",
           "#FF97FF",
           "#FECB52"
          ],
          "font": {
           "color": "#2a3f5f"
          },
          "geo": {
           "bgcolor": "white",
           "lakecolor": "white",
           "landcolor": "#E5ECF6",
           "showlakes": true,
           "showland": true,
           "subunitcolor": "white"
          },
          "hoverlabel": {
           "align": "left"
          },
          "hovermode": "closest",
          "mapbox": {
           "style": "light"
          },
          "paper_bgcolor": "white",
          "plot_bgcolor": "#E5ECF6",
          "polar": {
           "angularaxis": {
            "gridcolor": "white",
            "linecolor": "white",
            "ticks": ""
           },
           "bgcolor": "#E5ECF6",
           "radialaxis": {
            "gridcolor": "white",
            "linecolor": "white",
            "ticks": ""
           }
          },
          "scene": {
           "xaxis": {
            "backgroundcolor": "#E5ECF6",
            "gridcolor": "white",
            "gridwidth": 2,
            "linecolor": "white",
            "showbackground": true,
            "ticks": "",
            "zerolinecolor": "white"
           },
           "yaxis": {
            "backgroundcolor": "#E5ECF6",
            "gridcolor": "white",
            "gridwidth": 2,
            "linecolor": "white",
            "showbackground": true,
            "ticks": "",
            "zerolinecolor": "white"
           },
           "zaxis": {
            "backgroundcolor": "#E5ECF6",
            "gridcolor": "white",
            "gridwidth": 2,
            "linecolor": "white",
            "showbackground": true,
            "ticks": "",
            "zerolinecolor": "white"
           }
          },
          "shapedefaults": {
           "line": {
            "color": "#2a3f5f"
           }
          },
          "ternary": {
           "aaxis": {
            "gridcolor": "white",
            "linecolor": "white",
            "ticks": ""
           },
           "baxis": {
            "gridcolor": "white",
            "linecolor": "white",
            "ticks": ""
           },
           "bgcolor": "#E5ECF6",
           "caxis": {
            "gridcolor": "white",
            "linecolor": "white",
            "ticks": ""
           }
          },
          "title": {
           "x": 0.05
          },
          "xaxis": {
           "automargin": true,
           "gridcolor": "white",
           "linecolor": "white",
           "ticks": "",
           "title": {
            "standoff": 15
           },
           "zerolinecolor": "white",
           "zerolinewidth": 2
          },
          "yaxis": {
           "automargin": true,
           "gridcolor": "white",
           "linecolor": "white",
           "ticks": "",
           "title": {
            "standoff": 15
           },
           "zerolinecolor": "white",
           "zerolinewidth": 2
          }
         }
        },
        "title": {
         "text": "Average QM Rating by State"
        }
       }
      }
     },
     "metadata": {},
     "output_type": "display_data"
    }
   ],
   "source": [
    "qm_county_graph = px.choropleth(\n",
    "    qm_rating,\n",
    "    locations = 'State',\n",
    "    locationmode= 'USA-states',\n",
    "    color = 'QM Rating',\n",
    "    color_continuous_scale= 'RdBu',\n",
    "    scope = 'usa',\n",
    "    title = 'Average QM Rating by State'\n",
    ")\n",
    "qm_county_graph"
   ]
  },
  {
   "cell_type": "code",
   "execution_count": 10,
   "metadata": {},
   "outputs": [
    {
     "data": {
      "text/html": [
       "<div>\n",
       "<style scoped>\n",
       "    .dataframe tbody tr th:only-of-type {\n",
       "        vertical-align: middle;\n",
       "    }\n",
       "\n",
       "    .dataframe tbody tr th {\n",
       "        vertical-align: top;\n",
       "    }\n",
       "\n",
       "    .dataframe thead th {\n",
       "        text-align: right;\n",
       "    }\n",
       "</style>\n",
       "<table border=\"1\" class=\"dataframe\">\n",
       "  <thead>\n",
       "    <tr style=\"text-align: right;\">\n",
       "      <th></th>\n",
       "      <th>CMS Certification Number (CCN)</th>\n",
       "      <th>Provider Name</th>\n",
       "      <th>Provider Address</th>\n",
       "      <th>City/Town</th>\n",
       "      <th>State</th>\n",
       "      <th>ZIP Code</th>\n",
       "      <th>Telephone Number</th>\n",
       "      <th>Provider SSA County Code</th>\n",
       "      <th>County/Parish</th>\n",
       "      <th>Ownership Type</th>\n",
       "      <th>...</th>\n",
       "      <th>Number of Citations from Infection Control Inspections</th>\n",
       "      <th>Number of Fines</th>\n",
       "      <th>Total Amount of Fines in Dollars</th>\n",
       "      <th>Number of Payment Denials</th>\n",
       "      <th>Total Number of Penalties</th>\n",
       "      <th>Location</th>\n",
       "      <th>Latitude</th>\n",
       "      <th>Longitude</th>\n",
       "      <th>Geocoding Footnote</th>\n",
       "      <th>Processing Date</th>\n",
       "    </tr>\n",
       "  </thead>\n",
       "  <tbody>\n",
       "    <tr>\n",
       "      <th>0</th>\n",
       "      <td>015009</td>\n",
       "      <td>BURNS NURSING HOME, INC.</td>\n",
       "      <td>701 MONROE STREET NW</td>\n",
       "      <td>RUSSELLVILLE</td>\n",
       "      <td>AL</td>\n",
       "      <td>35653</td>\n",
       "      <td>2563324110</td>\n",
       "      <td>290</td>\n",
       "      <td>Franklin</td>\n",
       "      <td>For profit - Corporation</td>\n",
       "      <td>...</td>\n",
       "      <td>0.717391</td>\n",
       "      <td>2</td>\n",
       "      <td>24644.14</td>\n",
       "      <td>0</td>\n",
       "      <td>2</td>\n",
       "      <td>701 MONROE STREET NW,RUSSELLVILLE,AL,35653</td>\n",
       "      <td>34.5149</td>\n",
       "      <td>-87.736</td>\n",
       "      <td>NaN</td>\n",
       "      <td>2024-07-01</td>\n",
       "    </tr>\n",
       "    <tr>\n",
       "      <th>1</th>\n",
       "      <td>015010</td>\n",
       "      <td>COOSA VALLEY HEALTHCARE CENTER</td>\n",
       "      <td>260 WEST WALNUT STREET</td>\n",
       "      <td>SYLACAUGA</td>\n",
       "      <td>AL</td>\n",
       "      <td>35150</td>\n",
       "      <td>2562495604</td>\n",
       "      <td>600</td>\n",
       "      <td>Talladega</td>\n",
       "      <td>For profit - Corporation</td>\n",
       "      <td>...</td>\n",
       "      <td>0.000000</td>\n",
       "      <td>0</td>\n",
       "      <td>0.00</td>\n",
       "      <td>0</td>\n",
       "      <td>0</td>\n",
       "      <td>260 WEST WALNUT STREET,SYLACAUGA,AL,35150</td>\n",
       "      <td>33.1637</td>\n",
       "      <td>-86.254</td>\n",
       "      <td>NaN</td>\n",
       "      <td>2024-07-01</td>\n",
       "    </tr>\n",
       "    <tr>\n",
       "      <th>2</th>\n",
       "      <td>015012</td>\n",
       "      <td>HIGHLANDS HEALTH AND REHAB</td>\n",
       "      <td>380 WOODS COVE ROAD</td>\n",
       "      <td>SCOTTSBORO</td>\n",
       "      <td>AL</td>\n",
       "      <td>35768</td>\n",
       "      <td>2562183708</td>\n",
       "      <td>350</td>\n",
       "      <td>Jackson</td>\n",
       "      <td>Government - County</td>\n",
       "      <td>...</td>\n",
       "      <td>0.717391</td>\n",
       "      <td>0</td>\n",
       "      <td>0.00</td>\n",
       "      <td>0</td>\n",
       "      <td>0</td>\n",
       "      <td>380 WOODS COVE ROAD,SCOTTSBORO,AL,35768</td>\n",
       "      <td>34.6611</td>\n",
       "      <td>-86.047</td>\n",
       "      <td>NaN</td>\n",
       "      <td>2024-07-01</td>\n",
       "    </tr>\n",
       "    <tr>\n",
       "      <th>3</th>\n",
       "      <td>015014</td>\n",
       "      <td>EASTVIEW REHABILITATION &amp; HEALTHCARE CENTER</td>\n",
       "      <td>7755 FOURTH AVENUE SOUTH</td>\n",
       "      <td>BIRMINGHAM</td>\n",
       "      <td>AL</td>\n",
       "      <td>35206</td>\n",
       "      <td>2058330146</td>\n",
       "      <td>360</td>\n",
       "      <td>Jefferson</td>\n",
       "      <td>For profit - Individual</td>\n",
       "      <td>...</td>\n",
       "      <td>0.000000</td>\n",
       "      <td>0</td>\n",
       "      <td>0.00</td>\n",
       "      <td>0</td>\n",
       "      <td>0</td>\n",
       "      <td>7755 FOURTH AVENUE SOUTH,BIRMINGHAM,AL,35206</td>\n",
       "      <td>33.5595</td>\n",
       "      <td>-86.722</td>\n",
       "      <td>NaN</td>\n",
       "      <td>2024-07-01</td>\n",
       "    </tr>\n",
       "    <tr>\n",
       "      <th>4</th>\n",
       "      <td>015015</td>\n",
       "      <td>PLANTATION MANOR NURSING HOME</td>\n",
       "      <td>6450 OLD TUSCALOOSA HIGHWAY</td>\n",
       "      <td>MC CALLA</td>\n",
       "      <td>AL</td>\n",
       "      <td>35111</td>\n",
       "      <td>2054776161</td>\n",
       "      <td>360</td>\n",
       "      <td>Jefferson</td>\n",
       "      <td>For profit - Individual</td>\n",
       "      <td>...</td>\n",
       "      <td>0.717391</td>\n",
       "      <td>0</td>\n",
       "      <td>0.00</td>\n",
       "      <td>0</td>\n",
       "      <td>0</td>\n",
       "      <td>6450 OLD TUSCALOOSA HIGHWAY,MC CALLA,AL,35111</td>\n",
       "      <td>33.3221</td>\n",
       "      <td>-87.034</td>\n",
       "      <td>NaN</td>\n",
       "      <td>2024-07-01</td>\n",
       "    </tr>\n",
       "  </tbody>\n",
       "</table>\n",
       "<p>5 rows × 103 columns</p>\n",
       "</div>"
      ],
      "text/plain": [
       "  CMS Certification Number (CCN)                                Provider Name  \\\n",
       "0                         015009                     BURNS NURSING HOME, INC.   \n",
       "1                         015010               COOSA VALLEY HEALTHCARE CENTER   \n",
       "2                         015012                   HIGHLANDS HEALTH AND REHAB   \n",
       "3                         015014  EASTVIEW REHABILITATION & HEALTHCARE CENTER   \n",
       "4                         015015                PLANTATION MANOR NURSING HOME   \n",
       "\n",
       "              Provider Address     City/Town State  ZIP Code  \\\n",
       "0         701 MONROE STREET NW  RUSSELLVILLE    AL     35653   \n",
       "1       260 WEST WALNUT STREET     SYLACAUGA    AL     35150   \n",
       "2          380 WOODS COVE ROAD    SCOTTSBORO    AL     35768   \n",
       "3     7755 FOURTH AVENUE SOUTH    BIRMINGHAM    AL     35206   \n",
       "4  6450 OLD TUSCALOOSA HIGHWAY      MC CALLA    AL     35111   \n",
       "\n",
       "   Telephone Number  Provider SSA County Code County/Parish  \\\n",
       "0        2563324110                       290      Franklin   \n",
       "1        2562495604                       600     Talladega   \n",
       "2        2562183708                       350       Jackson   \n",
       "3        2058330146                       360     Jefferson   \n",
       "4        2054776161                       360     Jefferson   \n",
       "\n",
       "             Ownership Type  ...  \\\n",
       "0  For profit - Corporation  ...   \n",
       "1  For profit - Corporation  ...   \n",
       "2       Government - County  ...   \n",
       "3   For profit - Individual  ...   \n",
       "4   For profit - Individual  ...   \n",
       "\n",
       "   Number of Citations from Infection Control Inspections  Number of Fines  \\\n",
       "0                                           0.717391                     2   \n",
       "1                                           0.000000                     0   \n",
       "2                                           0.717391                     0   \n",
       "3                                           0.000000                     0   \n",
       "4                                           0.717391                     0   \n",
       "\n",
       "   Total Amount of Fines in Dollars Number of Payment Denials  \\\n",
       "0                          24644.14                         0   \n",
       "1                              0.00                         0   \n",
       "2                              0.00                         0   \n",
       "3                              0.00                         0   \n",
       "4                              0.00                         0   \n",
       "\n",
       "  Total Number of Penalties                                       Location  \\\n",
       "0                         2     701 MONROE STREET NW,RUSSELLVILLE,AL,35653   \n",
       "1                         0      260 WEST WALNUT STREET,SYLACAUGA,AL,35150   \n",
       "2                         0        380 WOODS COVE ROAD,SCOTTSBORO,AL,35768   \n",
       "3                         0   7755 FOURTH AVENUE SOUTH,BIRMINGHAM,AL,35206   \n",
       "4                         0  6450 OLD TUSCALOOSA HIGHWAY,MC CALLA,AL,35111   \n",
       "\n",
       "  Latitude Longitude  Geocoding Footnote Processing Date  \n",
       "0  34.5149   -87.736                 NaN      2024-07-01  \n",
       "1  33.1637   -86.254                 NaN      2024-07-01  \n",
       "2  34.6611   -86.047                 NaN      2024-07-01  \n",
       "3  33.5595   -86.722                 NaN      2024-07-01  \n",
       "4  33.3221   -87.034                 NaN      2024-07-01  \n",
       "\n",
       "[5 rows x 103 columns]"
      ]
     },
     "execution_count": 10,
     "metadata": {},
     "output_type": "execute_result"
    }
   ],
   "source": [
    "provider_info.head()"
   ]
  },
  {
   "cell_type": "code",
   "execution_count": 26,
   "metadata": {},
   "outputs": [
    {
     "data": {
      "text/html": [
       "<div>\n",
       "<style scoped>\n",
       "    .dataframe tbody tr th:only-of-type {\n",
       "        vertical-align: middle;\n",
       "    }\n",
       "\n",
       "    .dataframe tbody tr th {\n",
       "        vertical-align: top;\n",
       "    }\n",
       "\n",
       "    .dataframe thead th {\n",
       "        text-align: right;\n",
       "    }\n",
       "</style>\n",
       "<table border=\"1\" class=\"dataframe\">\n",
       "  <thead>\n",
       "    <tr style=\"text-align: right;\">\n",
       "      <th></th>\n",
       "      <th>State</th>\n",
       "      <th>County/Parish</th>\n",
       "      <th>QM Rating</th>\n",
       "    </tr>\n",
       "  </thead>\n",
       "  <tbody>\n",
       "    <tr>\n",
       "      <th>166</th>\n",
       "      <td>CA</td>\n",
       "      <td>Alameda</td>\n",
       "      <td>4.318977</td>\n",
       "    </tr>\n",
       "    <tr>\n",
       "      <th>167</th>\n",
       "      <td>CA</td>\n",
       "      <td>Amador</td>\n",
       "      <td>5.000000</td>\n",
       "    </tr>\n",
       "    <tr>\n",
       "      <th>168</th>\n",
       "      <td>CA</td>\n",
       "      <td>Butte</td>\n",
       "      <td>4.000000</td>\n",
       "    </tr>\n",
       "    <tr>\n",
       "      <th>169</th>\n",
       "      <td>CA</td>\n",
       "      <td>Calaveras</td>\n",
       "      <td>3.000000</td>\n",
       "    </tr>\n",
       "    <tr>\n",
       "      <th>170</th>\n",
       "      <td>CA</td>\n",
       "      <td>Colusa</td>\n",
       "      <td>3.500000</td>\n",
       "    </tr>\n",
       "    <tr>\n",
       "      <th>171</th>\n",
       "      <td>CA</td>\n",
       "      <td>Contra Costa</td>\n",
       "      <td>4.344279</td>\n",
       "    </tr>\n",
       "    <tr>\n",
       "      <th>172</th>\n",
       "      <td>CA</td>\n",
       "      <td>Del Norte</td>\n",
       "      <td>1.000000</td>\n",
       "    </tr>\n",
       "    <tr>\n",
       "      <th>173</th>\n",
       "      <td>CA</td>\n",
       "      <td>El Dorado</td>\n",
       "      <td>3.500000</td>\n",
       "    </tr>\n",
       "    <tr>\n",
       "      <th>174</th>\n",
       "      <td>CA</td>\n",
       "      <td>Fresno</td>\n",
       "      <td>4.107367</td>\n",
       "    </tr>\n",
       "    <tr>\n",
       "      <th>175</th>\n",
       "      <td>CA</td>\n",
       "      <td>Glenn</td>\n",
       "      <td>5.000000</td>\n",
       "    </tr>\n",
       "    <tr>\n",
       "      <th>176</th>\n",
       "      <td>CA</td>\n",
       "      <td>Humboldt</td>\n",
       "      <td>4.065674</td>\n",
       "    </tr>\n",
       "    <tr>\n",
       "      <th>177</th>\n",
       "      <td>CA</td>\n",
       "      <td>Imperial</td>\n",
       "      <td>4.000000</td>\n",
       "    </tr>\n",
       "    <tr>\n",
       "      <th>178</th>\n",
       "      <td>CA</td>\n",
       "      <td>Inyo</td>\n",
       "      <td>3.000000</td>\n",
       "    </tr>\n",
       "    <tr>\n",
       "      <th>179</th>\n",
       "      <td>CA</td>\n",
       "      <td>Kern</td>\n",
       "      <td>3.647059</td>\n",
       "    </tr>\n",
       "    <tr>\n",
       "      <th>180</th>\n",
       "      <td>CA</td>\n",
       "      <td>Kings</td>\n",
       "      <td>4.333333</td>\n",
       "    </tr>\n",
       "    <tr>\n",
       "      <th>181</th>\n",
       "      <td>CA</td>\n",
       "      <td>Lake</td>\n",
       "      <td>4.333333</td>\n",
       "    </tr>\n",
       "    <tr>\n",
       "      <th>182</th>\n",
       "      <td>CA</td>\n",
       "      <td>Lassen</td>\n",
       "      <td>3.000000</td>\n",
       "    </tr>\n",
       "    <tr>\n",
       "      <th>183</th>\n",
       "      <td>CA</td>\n",
       "      <td>Los Angeles</td>\n",
       "      <td>4.415664</td>\n",
       "    </tr>\n",
       "    <tr>\n",
       "      <th>184</th>\n",
       "      <td>CA</td>\n",
       "      <td>Madera</td>\n",
       "      <td>3.800000</td>\n",
       "    </tr>\n",
       "    <tr>\n",
       "      <th>185</th>\n",
       "      <td>CA</td>\n",
       "      <td>Marin</td>\n",
       "      <td>4.181818</td>\n",
       "    </tr>\n",
       "    <tr>\n",
       "      <th>186</th>\n",
       "      <td>CA</td>\n",
       "      <td>Mariposa</td>\n",
       "      <td>2.000000</td>\n",
       "    </tr>\n",
       "    <tr>\n",
       "      <th>187</th>\n",
       "      <td>CA</td>\n",
       "      <td>Mendocino</td>\n",
       "      <td>4.500000</td>\n",
       "    </tr>\n",
       "    <tr>\n",
       "      <th>188</th>\n",
       "      <td>CA</td>\n",
       "      <td>Merced</td>\n",
       "      <td>4.000000</td>\n",
       "    </tr>\n",
       "    <tr>\n",
       "      <th>189</th>\n",
       "      <td>CA</td>\n",
       "      <td>Modoc</td>\n",
       "      <td>1.000000</td>\n",
       "    </tr>\n",
       "    <tr>\n",
       "      <th>190</th>\n",
       "      <td>CA</td>\n",
       "      <td>Monterey</td>\n",
       "      <td>4.428571</td>\n",
       "    </tr>\n",
       "    <tr>\n",
       "      <th>191</th>\n",
       "      <td>CA</td>\n",
       "      <td>Napa</td>\n",
       "      <td>4.000000</td>\n",
       "    </tr>\n",
       "    <tr>\n",
       "      <th>192</th>\n",
       "      <td>CA</td>\n",
       "      <td>Nevada</td>\n",
       "      <td>4.400000</td>\n",
       "    </tr>\n",
       "    <tr>\n",
       "      <th>193</th>\n",
       "      <td>CA</td>\n",
       "      <td>Orange</td>\n",
       "      <td>4.513889</td>\n",
       "    </tr>\n",
       "    <tr>\n",
       "      <th>194</th>\n",
       "      <td>CA</td>\n",
       "      <td>Placer</td>\n",
       "      <td>4.500000</td>\n",
       "    </tr>\n",
       "    <tr>\n",
       "      <th>195</th>\n",
       "      <td>CA</td>\n",
       "      <td>Plumas</td>\n",
       "      <td>2.500000</td>\n",
       "    </tr>\n",
       "    <tr>\n",
       "      <th>196</th>\n",
       "      <td>CA</td>\n",
       "      <td>Riverside</td>\n",
       "      <td>4.450525</td>\n",
       "    </tr>\n",
       "    <tr>\n",
       "      <th>197</th>\n",
       "      <td>CA</td>\n",
       "      <td>Sacramento</td>\n",
       "      <td>4.135135</td>\n",
       "    </tr>\n",
       "    <tr>\n",
       "      <th>198</th>\n",
       "      <td>CA</td>\n",
       "      <td>San Benito</td>\n",
       "      <td>4.000000</td>\n",
       "    </tr>\n",
       "    <tr>\n",
       "      <th>199</th>\n",
       "      <td>CA</td>\n",
       "      <td>San Bernardino</td>\n",
       "      <td>4.191266</td>\n",
       "    </tr>\n",
       "    <tr>\n",
       "      <th>200</th>\n",
       "      <td>CA</td>\n",
       "      <td>San Diego</td>\n",
       "      <td>4.592409</td>\n",
       "    </tr>\n",
       "    <tr>\n",
       "      <th>201</th>\n",
       "      <td>CA</td>\n",
       "      <td>San Francisco</td>\n",
       "      <td>4.136963</td>\n",
       "    </tr>\n",
       "    <tr>\n",
       "      <th>202</th>\n",
       "      <td>CA</td>\n",
       "      <td>San Joaquin</td>\n",
       "      <td>4.250000</td>\n",
       "    </tr>\n",
       "    <tr>\n",
       "      <th>203</th>\n",
       "      <td>CA</td>\n",
       "      <td>San Luis Obispo</td>\n",
       "      <td>4.904053</td>\n",
       "    </tr>\n",
       "    <tr>\n",
       "      <th>204</th>\n",
       "      <td>CA</td>\n",
       "      <td>San Mateo</td>\n",
       "      <td>4.000000</td>\n",
       "    </tr>\n",
       "    <tr>\n",
       "      <th>205</th>\n",
       "      <td>CA</td>\n",
       "      <td>Santa Barbara</td>\n",
       "      <td>4.285714</td>\n",
       "    </tr>\n",
       "    <tr>\n",
       "      <th>206</th>\n",
       "      <td>CA</td>\n",
       "      <td>Santa Clara</td>\n",
       "      <td>4.440000</td>\n",
       "    </tr>\n",
       "    <tr>\n",
       "      <th>207</th>\n",
       "      <td>CA</td>\n",
       "      <td>Santa Cruz</td>\n",
       "      <td>4.285714</td>\n",
       "    </tr>\n",
       "    <tr>\n",
       "      <th>208</th>\n",
       "      <td>CA</td>\n",
       "      <td>Shasta</td>\n",
       "      <td>4.600000</td>\n",
       "    </tr>\n",
       "    <tr>\n",
       "      <th>209</th>\n",
       "      <td>CA</td>\n",
       "      <td>Siskiyou</td>\n",
       "      <td>5.000000</td>\n",
       "    </tr>\n",
       "    <tr>\n",
       "      <th>210</th>\n",
       "      <td>CA</td>\n",
       "      <td>Solano</td>\n",
       "      <td>4.666046</td>\n",
       "    </tr>\n",
       "    <tr>\n",
       "      <th>211</th>\n",
       "      <td>CA</td>\n",
       "      <td>Sonoma</td>\n",
       "      <td>4.388889</td>\n",
       "    </tr>\n",
       "    <tr>\n",
       "      <th>212</th>\n",
       "      <td>CA</td>\n",
       "      <td>Stanislaus</td>\n",
       "      <td>3.722222</td>\n",
       "    </tr>\n",
       "    <tr>\n",
       "      <th>213</th>\n",
       "      <td>CA</td>\n",
       "      <td>Sutter</td>\n",
       "      <td>4.000000</td>\n",
       "    </tr>\n",
       "    <tr>\n",
       "      <th>214</th>\n",
       "      <td>CA</td>\n",
       "      <td>Tehama</td>\n",
       "      <td>4.164186</td>\n",
       "    </tr>\n",
       "    <tr>\n",
       "      <th>215</th>\n",
       "      <td>CA</td>\n",
       "      <td>Trinity</td>\n",
       "      <td>2.000000</td>\n",
       "    </tr>\n",
       "    <tr>\n",
       "      <th>216</th>\n",
       "      <td>CA</td>\n",
       "      <td>Tulare</td>\n",
       "      <td>4.333023</td>\n",
       "    </tr>\n",
       "    <tr>\n",
       "      <th>217</th>\n",
       "      <td>CA</td>\n",
       "      <td>Tuolumne</td>\n",
       "      <td>2.000000</td>\n",
       "    </tr>\n",
       "    <tr>\n",
       "      <th>218</th>\n",
       "      <td>CA</td>\n",
       "      <td>Ventura</td>\n",
       "      <td>4.842105</td>\n",
       "    </tr>\n",
       "    <tr>\n",
       "      <th>219</th>\n",
       "      <td>CA</td>\n",
       "      <td>Yolo</td>\n",
       "      <td>4.166667</td>\n",
       "    </tr>\n",
       "    <tr>\n",
       "      <th>220</th>\n",
       "      <td>CA</td>\n",
       "      <td>Yuba</td>\n",
       "      <td>4.000000</td>\n",
       "    </tr>\n",
       "  </tbody>\n",
       "</table>\n",
       "</div>"
      ],
      "text/plain": [
       "    State    County/Parish  QM Rating\n",
       "166    CA          Alameda   4.318977\n",
       "167    CA           Amador   5.000000\n",
       "168    CA            Butte   4.000000\n",
       "169    CA        Calaveras   3.000000\n",
       "170    CA           Colusa   3.500000\n",
       "171    CA     Contra Costa   4.344279\n",
       "172    CA        Del Norte   1.000000\n",
       "173    CA        El Dorado   3.500000\n",
       "174    CA           Fresno   4.107367\n",
       "175    CA            Glenn   5.000000\n",
       "176    CA         Humboldt   4.065674\n",
       "177    CA         Imperial   4.000000\n",
       "178    CA             Inyo   3.000000\n",
       "179    CA             Kern   3.647059\n",
       "180    CA            Kings   4.333333\n",
       "181    CA             Lake   4.333333\n",
       "182    CA           Lassen   3.000000\n",
       "183    CA      Los Angeles   4.415664\n",
       "184    CA           Madera   3.800000\n",
       "185    CA            Marin   4.181818\n",
       "186    CA         Mariposa   2.000000\n",
       "187    CA        Mendocino   4.500000\n",
       "188    CA           Merced   4.000000\n",
       "189    CA            Modoc   1.000000\n",
       "190    CA         Monterey   4.428571\n",
       "191    CA             Napa   4.000000\n",
       "192    CA           Nevada   4.400000\n",
       "193    CA           Orange   4.513889\n",
       "194    CA           Placer   4.500000\n",
       "195    CA           Plumas   2.500000\n",
       "196    CA        Riverside   4.450525\n",
       "197    CA       Sacramento   4.135135\n",
       "198    CA       San Benito   4.000000\n",
       "199    CA   San Bernardino   4.191266\n",
       "200    CA        San Diego   4.592409\n",
       "201    CA    San Francisco   4.136963\n",
       "202    CA      San Joaquin   4.250000\n",
       "203    CA  San Luis Obispo   4.904053\n",
       "204    CA        San Mateo   4.000000\n",
       "205    CA    Santa Barbara   4.285714\n",
       "206    CA      Santa Clara   4.440000\n",
       "207    CA       Santa Cruz   4.285714\n",
       "208    CA           Shasta   4.600000\n",
       "209    CA         Siskiyou   5.000000\n",
       "210    CA           Solano   4.666046\n",
       "211    CA           Sonoma   4.388889\n",
       "212    CA       Stanislaus   3.722222\n",
       "213    CA           Sutter   4.000000\n",
       "214    CA           Tehama   4.164186\n",
       "215    CA          Trinity   2.000000\n",
       "216    CA           Tulare   4.333023\n",
       "217    CA         Tuolumne   2.000000\n",
       "218    CA          Ventura   4.842105\n",
       "219    CA             Yolo   4.166667\n",
       "220    CA             Yuba   4.000000"
      ]
     },
     "execution_count": 26,
     "metadata": {},
     "output_type": "execute_result"
    }
   ],
   "source": [
    "qm_rating_counties = provider_info.groupby(['State', 'County/Parish'])[['QM Rating']].mean().reset_index()\n",
    "qm_rating_ca = qm_rating_counties[qm_rating_counties['State'] == 'CA']\n",
    "qm_rating_ca"
   ]
  },
  {
   "cell_type": "code",
   "execution_count": 25,
   "metadata": {},
   "outputs": [
    {
     "ename": "ValueError",
     "evalue": "Value of 'locations' is not the name of a column in 'data_frame'. Expected one of ['State', 'QM Rating'] but received: County/Parish",
     "output_type": "error",
     "traceback": [
      "\u001b[0;31m---------------------------------------------------------------------------\u001b[0m",
      "\u001b[0;31mValueError\u001b[0m                                Traceback (most recent call last)",
      "Cell \u001b[0;32mIn[25], line 1\u001b[0m\n\u001b[0;32m----> 1\u001b[0m qm_ca_graph \u001b[38;5;241m=\u001b[39m \u001b[43mpx\u001b[49m\u001b[38;5;241;43m.\u001b[39;49m\u001b[43mchoropleth\u001b[49m\u001b[43m(\u001b[49m\n\u001b[1;32m      2\u001b[0m \u001b[43m    \u001b[49m\u001b[43mqm_rating\u001b[49m\u001b[43m,\u001b[49m\n\u001b[1;32m      3\u001b[0m \u001b[43m    \u001b[49m\u001b[43mlocations\u001b[49m\u001b[43m \u001b[49m\u001b[38;5;241;43m=\u001b[39;49m\u001b[43m \u001b[49m\u001b[38;5;124;43m'\u001b[39;49m\u001b[38;5;124;43mCounty/Parish\u001b[39;49m\u001b[38;5;124;43m'\u001b[39;49m\u001b[43m,\u001b[49m\n\u001b[1;32m      4\u001b[0m \u001b[43m    \u001b[49m\u001b[43mlocationmode\u001b[49m\u001b[38;5;241;43m=\u001b[39;49m\u001b[43m \u001b[49m\u001b[38;5;124;43m'\u001b[39;49m\u001b[38;5;124;43mUSA-counties\u001b[39;49m\u001b[38;5;124;43m'\u001b[39;49m\u001b[43m,\u001b[49m\n\u001b[1;32m      5\u001b[0m \u001b[43m    \u001b[49m\u001b[43mcolor\u001b[49m\u001b[43m \u001b[49m\u001b[38;5;241;43m=\u001b[39;49m\u001b[43m \u001b[49m\u001b[38;5;124;43m'\u001b[39;49m\u001b[38;5;124;43mQM Rating\u001b[39;49m\u001b[38;5;124;43m'\u001b[39;49m\u001b[43m,\u001b[49m\n\u001b[1;32m      6\u001b[0m \u001b[43m    \u001b[49m\u001b[43mcolor_continuous_scale\u001b[49m\u001b[38;5;241;43m=\u001b[39;49m\u001b[43m \u001b[49m\u001b[38;5;124;43m'\u001b[39;49m\u001b[38;5;124;43mRdBu\u001b[39;49m\u001b[38;5;124;43m'\u001b[39;49m\u001b[43m,\u001b[49m\n\u001b[1;32m      7\u001b[0m \u001b[43m    \u001b[49m\u001b[43mscope\u001b[49m\u001b[43m \u001b[49m\u001b[38;5;241;43m=\u001b[39;49m\u001b[43m \u001b[49m\u001b[38;5;124;43m'\u001b[39;49m\u001b[38;5;124;43musa\u001b[39;49m\u001b[38;5;124;43m'\u001b[39;49m\u001b[43m,\u001b[49m\n\u001b[1;32m      8\u001b[0m \u001b[43m    \u001b[49m\u001b[43mtitle\u001b[49m\u001b[43m \u001b[49m\u001b[38;5;241;43m=\u001b[39;49m\u001b[43m \u001b[49m\u001b[38;5;124;43m'\u001b[39;49m\u001b[38;5;124;43mAverage QM Rating in CA\u001b[39;49m\u001b[38;5;124;43m'\u001b[39;49m\n\u001b[1;32m      9\u001b[0m \u001b[43m)\u001b[49m\n\u001b[1;32m     10\u001b[0m qm_ca_graph\n",
      "File \u001b[0;32m/Library/Frameworks/Python.framework/Versions/3.12/lib/python3.12/site-packages/plotly/express/_chart_types.py:1091\u001b[0m, in \u001b[0;36mchoropleth\u001b[0;34m(data_frame, lat, lon, locations, locationmode, geojson, featureidkey, color, facet_row, facet_col, facet_col_wrap, facet_row_spacing, facet_col_spacing, hover_name, hover_data, custom_data, animation_frame, animation_group, category_orders, labels, color_discrete_sequence, color_discrete_map, color_continuous_scale, range_color, color_continuous_midpoint, projection, scope, center, fitbounds, basemap_visible, title, template, width, height)\u001b[0m\n\u001b[1;32m   1051\u001b[0m \u001b[38;5;28;01mdef\u001b[39;00m \u001b[38;5;21mchoropleth\u001b[39m(\n\u001b[1;32m   1052\u001b[0m     data_frame\u001b[38;5;241m=\u001b[39m\u001b[38;5;28;01mNone\u001b[39;00m,\n\u001b[1;32m   1053\u001b[0m     lat\u001b[38;5;241m=\u001b[39m\u001b[38;5;28;01mNone\u001b[39;00m,\n\u001b[0;32m   (...)\u001b[0m\n\u001b[1;32m   1085\u001b[0m     height\u001b[38;5;241m=\u001b[39m\u001b[38;5;28;01mNone\u001b[39;00m,\n\u001b[1;32m   1086\u001b[0m ) \u001b[38;5;241m-\u001b[39m\u001b[38;5;241m>\u001b[39m go\u001b[38;5;241m.\u001b[39mFigure:\n\u001b[1;32m   1087\u001b[0m \u001b[38;5;250m    \u001b[39m\u001b[38;5;124;03m\"\"\"\u001b[39;00m\n\u001b[1;32m   1088\u001b[0m \u001b[38;5;124;03m    In a choropleth map, each row of `data_frame` is represented by a\u001b[39;00m\n\u001b[1;32m   1089\u001b[0m \u001b[38;5;124;03m    colored region mark on a map.\u001b[39;00m\n\u001b[1;32m   1090\u001b[0m \u001b[38;5;124;03m    \"\"\"\u001b[39;00m\n\u001b[0;32m-> 1091\u001b[0m     \u001b[38;5;28;01mreturn\u001b[39;00m \u001b[43mmake_figure\u001b[49m\u001b[43m(\u001b[49m\n\u001b[1;32m   1092\u001b[0m \u001b[43m        \u001b[49m\u001b[43margs\u001b[49m\u001b[38;5;241;43m=\u001b[39;49m\u001b[38;5;28;43mlocals\u001b[39;49m\u001b[43m(\u001b[49m\u001b[43m)\u001b[49m\u001b[43m,\u001b[49m\n\u001b[1;32m   1093\u001b[0m \u001b[43m        \u001b[49m\u001b[43mconstructor\u001b[49m\u001b[38;5;241;43m=\u001b[39;49m\u001b[43mgo\u001b[49m\u001b[38;5;241;43m.\u001b[39;49m\u001b[43mChoropleth\u001b[49m\u001b[43m,\u001b[49m\n\u001b[1;32m   1094\u001b[0m \u001b[43m        \u001b[49m\u001b[43mtrace_patch\u001b[49m\u001b[38;5;241;43m=\u001b[39;49m\u001b[38;5;28;43mdict\u001b[39;49m\u001b[43m(\u001b[49m\u001b[43mlocationmode\u001b[49m\u001b[38;5;241;43m=\u001b[39;49m\u001b[43mlocationmode\u001b[49m\u001b[43m)\u001b[49m\u001b[43m,\u001b[49m\n\u001b[1;32m   1095\u001b[0m \u001b[43m    \u001b[49m\u001b[43m)\u001b[49m\n",
      "File \u001b[0;32m/Library/Frameworks/Python.framework/Versions/3.12/lib/python3.12/site-packages/plotly/express/_core.py:2090\u001b[0m, in \u001b[0;36mmake_figure\u001b[0;34m(args, constructor, trace_patch, layout_patch)\u001b[0m\n\u001b[1;32m   2087\u001b[0m layout_patch \u001b[38;5;241m=\u001b[39m layout_patch \u001b[38;5;129;01mor\u001b[39;00m {}\n\u001b[1;32m   2088\u001b[0m apply_default_cascade(args)\n\u001b[0;32m-> 2090\u001b[0m args \u001b[38;5;241m=\u001b[39m \u001b[43mbuild_dataframe\u001b[49m\u001b[43m(\u001b[49m\u001b[43margs\u001b[49m\u001b[43m,\u001b[49m\u001b[43m \u001b[49m\u001b[43mconstructor\u001b[49m\u001b[43m)\u001b[49m\n\u001b[1;32m   2091\u001b[0m \u001b[38;5;28;01mif\u001b[39;00m constructor \u001b[38;5;129;01min\u001b[39;00m [go\u001b[38;5;241m.\u001b[39mTreemap, go\u001b[38;5;241m.\u001b[39mSunburst, go\u001b[38;5;241m.\u001b[39mIcicle] \u001b[38;5;129;01mand\u001b[39;00m args[\u001b[38;5;124m\"\u001b[39m\u001b[38;5;124mpath\u001b[39m\u001b[38;5;124m\"\u001b[39m] \u001b[38;5;129;01mis\u001b[39;00m \u001b[38;5;129;01mnot\u001b[39;00m \u001b[38;5;28;01mNone\u001b[39;00m:\n\u001b[1;32m   2092\u001b[0m     args \u001b[38;5;241m=\u001b[39m process_dataframe_hierarchy(args)\n",
      "File \u001b[0;32m/Library/Frameworks/Python.framework/Versions/3.12/lib/python3.12/site-packages/plotly/express/_core.py:1492\u001b[0m, in \u001b[0;36mbuild_dataframe\u001b[0;34m(args, constructor)\u001b[0m\n\u001b[1;32m   1489\u001b[0m     args[\u001b[38;5;124m\"\u001b[39m\u001b[38;5;124mcolor\u001b[39m\u001b[38;5;124m\"\u001b[39m] \u001b[38;5;241m=\u001b[39m \u001b[38;5;28;01mNone\u001b[39;00m\n\u001b[1;32m   1490\u001b[0m \u001b[38;5;66;03m# now that things have been prepped, we do the systematic rewriting of `args`\u001b[39;00m\n\u001b[0;32m-> 1492\u001b[0m df_output, wide_id_vars \u001b[38;5;241m=\u001b[39m \u001b[43mprocess_args_into_dataframe\u001b[49m\u001b[43m(\u001b[49m\n\u001b[1;32m   1493\u001b[0m \u001b[43m    \u001b[49m\u001b[43margs\u001b[49m\u001b[43m,\u001b[49m\u001b[43m \u001b[49m\u001b[43mwide_mode\u001b[49m\u001b[43m,\u001b[49m\u001b[43m \u001b[49m\u001b[43mvar_name\u001b[49m\u001b[43m,\u001b[49m\u001b[43m \u001b[49m\u001b[43mvalue_name\u001b[49m\n\u001b[1;32m   1494\u001b[0m \u001b[43m\u001b[49m\u001b[43m)\u001b[49m\n\u001b[1;32m   1496\u001b[0m \u001b[38;5;66;03m# now that `df_output` exists and `args` contains only references, we complete\u001b[39;00m\n\u001b[1;32m   1497\u001b[0m \u001b[38;5;66;03m# the special-case and wide-mode handling by further rewriting args and/or mutating\u001b[39;00m\n\u001b[1;32m   1498\u001b[0m \u001b[38;5;66;03m# df_output\u001b[39;00m\n\u001b[1;32m   1500\u001b[0m count_name \u001b[38;5;241m=\u001b[39m _escape_col_name(df_output, \u001b[38;5;124m\"\u001b[39m\u001b[38;5;124mcount\u001b[39m\u001b[38;5;124m\"\u001b[39m, [var_name, value_name])\n",
      "File \u001b[0;32m/Library/Frameworks/Python.framework/Versions/3.12/lib/python3.12/site-packages/plotly/express/_core.py:1213\u001b[0m, in \u001b[0;36mprocess_args_into_dataframe\u001b[0;34m(args, wide_mode, var_name, value_name)\u001b[0m\n\u001b[1;32m   1211\u001b[0m         \u001b[38;5;28;01mif\u001b[39;00m argument \u001b[38;5;241m==\u001b[39m \u001b[38;5;124m\"\u001b[39m\u001b[38;5;124mindex\u001b[39m\u001b[38;5;124m\"\u001b[39m:\n\u001b[1;32m   1212\u001b[0m             err_msg \u001b[38;5;241m+\u001b[39m\u001b[38;5;241m=\u001b[39m \u001b[38;5;124m\"\u001b[39m\u001b[38;5;130;01m\\n\u001b[39;00m\u001b[38;5;124m To use the index, pass it in directly as `df.index`.\u001b[39m\u001b[38;5;124m\"\u001b[39m\n\u001b[0;32m-> 1213\u001b[0m         \u001b[38;5;28;01mraise\u001b[39;00m \u001b[38;5;167;01mValueError\u001b[39;00m(err_msg)\n\u001b[1;32m   1214\u001b[0m \u001b[38;5;28;01melif\u001b[39;00m length \u001b[38;5;129;01mand\u001b[39;00m \u001b[38;5;28mlen\u001b[39m(df_input[argument]) \u001b[38;5;241m!=\u001b[39m length:\n\u001b[1;32m   1215\u001b[0m     \u001b[38;5;28;01mraise\u001b[39;00m \u001b[38;5;167;01mValueError\u001b[39;00m(\n\u001b[1;32m   1216\u001b[0m         \u001b[38;5;124m\"\u001b[39m\u001b[38;5;124mAll arguments should have the same length. \u001b[39m\u001b[38;5;124m\"\u001b[39m\n\u001b[1;32m   1217\u001b[0m         \u001b[38;5;124m\"\u001b[39m\u001b[38;5;124mThe length of column argument `df[\u001b[39m\u001b[38;5;132;01m%s\u001b[39;00m\u001b[38;5;124m]` is \u001b[39m\u001b[38;5;132;01m%d\u001b[39;00m\u001b[38;5;124m, whereas the \u001b[39m\u001b[38;5;124m\"\u001b[39m\n\u001b[0;32m   (...)\u001b[0m\n\u001b[1;32m   1224\u001b[0m         )\n\u001b[1;32m   1225\u001b[0m     )\n",
      "\u001b[0;31mValueError\u001b[0m: Value of 'locations' is not the name of a column in 'data_frame'. Expected one of ['State', 'QM Rating'] but received: County/Parish"
     ]
    }
   ],
   "source": [
    "qm_ca_graph = px.choropleth(\n",
    "    qm_rating,\n",
    "    locations = 'County/Parish',\n",
    "    locationmode= 'USA-counties',\n",
    "    color = 'QM Rating',\n",
    "    color_continuous_scale= 'RdBu',\n",
    "    scope = 'usa',\n",
    "    title = 'Average QM Rating in CA'\n",
    ")\n",
    "qm_ca_graph"
   ]
  },
  {
   "cell_type": "code",
   "execution_count": null,
   "metadata": {},
   "outputs": [],
   "source": []
  }
 ],
 "metadata": {
  "kernelspec": {
   "display_name": "Python 3",
   "language": "python",
   "name": "python3"
  },
  "language_info": {
   "codemirror_mode": {
    "name": "ipython",
    "version": 3
   },
   "file_extension": ".py",
   "mimetype": "text/x-python",
   "name": "python",
   "nbconvert_exporter": "python",
   "pygments_lexer": "ipython3",
   "version": "3.12.2"
  }
 },
 "nbformat": 4,
 "nbformat_minor": 2
}
